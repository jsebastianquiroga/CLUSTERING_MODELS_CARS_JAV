{
  "nbformat": 4,
  "nbformat_minor": 0,
  "metadata": {
    "colab": {
      "provenance": [],
      "collapsed_sections": [
        "y3ineopqIjNT",
        "3aBmKhkLIc5b",
        "WAr9Z69AMOyl",
        "Yc1Bb8SAMNPN"
      ],
      "toc_visible": true,
      "include_colab_link": true
    },
    "kernelspec": {
      "name": "python3",
      "display_name": "Python 3"
    },
    "language_info": {
      "name": "python"
    }
  },
  "cells": [
    {
      "cell_type": "markdown",
      "metadata": {
        "id": "view-in-github",
        "colab_type": "text"
      },
      "source": [
        "<a href=\"https://colab.research.google.com/github/jsebastianquiroga/CLUSTERING_MODELS_CARS_JAV/blob/main/Notebook/TALLER_3_CLUSTERING_MODELS.ipynb\" target=\"_parent\"><img src=\"https://colab.research.google.com/assets/colab-badge.svg\" alt=\"Open In Colab\"/></a>"
      ]
    },
    {
      "cell_type": "markdown",
      "source": [
        "# <img style=\"float: center; padding-right: 10px;\" src=\"https://www.pikpng.com/pngl/b/467-4670553_universidad-javeriana-esslingen-am-neckar-clipart.png\" width=\"100\" height=\"150\">\n",
        "\n",
        "TALLER NUMERO CINCO.\n",
        "\n",
        "APRENDIZAJE DE MAQUINA.\n",
        "UNIVERSIDAD JAVERIANA\n",
        "\n",
        "PROFESOR:CESAR ORLANDO DIAZ BENITO.\n",
        "\n",
        "***INTEGRANTES*** :</P>\n",
        "**LEONARDO GARCÍA**</P>\n",
        "**JUAN SEBASTÍAN QUIROGA**</P>\n",
        "**ROBINSSON SÁNCHEZ**</P>\n",
        "\n"
      ],
      "metadata": {
        "id": "yGV8MQBsMnwX"
      }
    },
    {
      "cell_type": "markdown",
      "source": [
        "En el presente taller se busca generar varios modelos con la base de https://www.kaggle.com/code/prashant111/decision-tree-classifier-tutorial cuyo dataset cuenta con 7 variables distintas, las cuales son numericas y categoricas.\n",
        "\n",
        "Este taller esta dividio en 7 etapas:\n",
        "<ol>\n",
        "<li> Cargar Data Set y exploración inicial de los datos. </li>\n",
        "<li> Preparación de los datos.</li>\n",
        "<li> Modelo: Decision Tree.</li>\n",
        "<li> Modelo: Decision Tree Sklearn.</li>\n",
        "<li> Modelo: Random Forest. </li>\n",
        "<li> Modelo: K-means. </li>\n",
        "<li> Modelo: DBSCAN. </li>\n",
        "</ol>"
      ],
      "metadata": {
        "id": "lMybDztXN4a8"
      }
    },
    {
      "cell_type": "code",
      "source": [
        "!pip install --upgrade category_encoders\n",
        "%matplotlib inline\n",
        "from sklearn.datasets import load_iris\n",
        "from sklearn import tree\n",
        "from sklearn.model_selection import train_test_split\n",
        "from sklearn.tree import DecisionTreeClassifier\n",
        "from sklearn.metrics import accuracy_score\n",
        "from sklearn.metrics import confusion_matrix\n",
        "from sklearn.ensemble import RandomForestClassifier\n",
        "from sklearn.model_selection import cross_val_score\n",
        "from sklearn.metrics import plot_confusion_matrix\n",
        "from sklearn.metrics import ConfusionMatrixDisplay\n",
        "from sklearn.metrics import classification_report\n",
        "from sklearn.ensemble import AdaBoostClassifier\n",
        "import numpy as np # linear algebra\n",
        "import pandas as pd # data processing, CSV file I/O (e.g. pd.read_csv)\n",
        "import matplotlib.pyplot as plt # data visualization\n",
        "import seaborn as sns # statistical data visualization\n",
        "import category_encoders as ce\n",
        "from pydrive.auth import GoogleAuth\n",
        "from google.colab import drive\n",
        "from pydrive.drive import GoogleDrive\n",
        "from google.colab import auth\n",
        "from oauth2client.client import GoogleCredentials\n",
        "from sklearn.cluster import DBSCAN\n",
        "from sklearn import metrics\n",
        "from sklearn.datasets import make_blobs\n",
        "from sklearn.preprocessing import StandardScaler\n",
        "from sklearn.cluster import KMeans"
      ],
      "metadata": {
        "id": "rNOr_My5D0fp",
        "colab": {
          "base_uri": "https://localhost:8080/"
        },
        "outputId": "47a5649c-ff29-4dcf-cc6e-70c1baa0f0fa"
      },
      "execution_count": null,
      "outputs": [
        {
          "output_type": "stream",
          "name": "stdout",
          "text": [
            "Looking in indexes: https://pypi.org/simple, https://us-python.pkg.dev/colab-wheels/public/simple/\n",
            "Requirement already satisfied: category_encoders in /usr/local/lib/python3.7/dist-packages (2.5.1.post0)\n",
            "Requirement already satisfied: scipy>=1.0.0 in /usr/local/lib/python3.7/dist-packages (from category_encoders) (1.7.3)\n",
            "Requirement already satisfied: pandas>=1.0.5 in /usr/local/lib/python3.7/dist-packages (from category_encoders) (1.3.5)\n",
            "Requirement already satisfied: numpy>=1.14.0 in /usr/local/lib/python3.7/dist-packages (from category_encoders) (1.21.6)\n",
            "Requirement already satisfied: scikit-learn>=0.20.0 in /usr/local/lib/python3.7/dist-packages (from category_encoders) (1.0.2)\n",
            "Requirement already satisfied: patsy>=0.5.1 in /usr/local/lib/python3.7/dist-packages (from category_encoders) (0.5.3)\n",
            "Requirement already satisfied: statsmodels>=0.9.0 in /usr/local/lib/python3.7/dist-packages (from category_encoders) (0.12.2)\n",
            "Requirement already satisfied: python-dateutil>=2.7.3 in /usr/local/lib/python3.7/dist-packages (from pandas>=1.0.5->category_encoders) (2.8.2)\n",
            "Requirement already satisfied: pytz>=2017.3 in /usr/local/lib/python3.7/dist-packages (from pandas>=1.0.5->category_encoders) (2022.5)\n",
            "Requirement already satisfied: six in /usr/local/lib/python3.7/dist-packages (from patsy>=0.5.1->category_encoders) (1.15.0)\n",
            "Requirement already satisfied: joblib>=0.11 in /usr/local/lib/python3.7/dist-packages (from scikit-learn>=0.20.0->category_encoders) (1.2.0)\n",
            "Requirement already satisfied: threadpoolctl>=2.0.0 in /usr/local/lib/python3.7/dist-packages (from scikit-learn>=0.20.0->category_encoders) (3.1.0)\n"
          ]
        }
      ]
    },
    {
      "cell_type": "markdown",
      "source": [
        "# <h2> 1.Cargar Data Set y exploración inicial de los datos.</h2>\n",
        "\n",
        "Se importan todoas las funciones a ser utilizadas"
      ],
      "metadata": {
        "id": "rlj_liXjPcB2"
      }
    },
    {
      "cell_type": "code",
      "source": [
        "auth.authenticate_user()\n",
        "gauth = GoogleAuth()\n",
        "gauth.credentials = GoogleCredentials.get_application_default()\n",
        "drive = GoogleDrive(gauth)\n",
        "df_car_complete = '1uIKgryJdsJcnxWYnKjT4M6dP92MWKHzm'\n",
        "download = drive.CreateFile({'id': df_car_complete}) \n",
        "# Download the file to a local disc\n",
        "download.GetContentFile('car_evaluation.csv')\n",
        "dtype_dict = {\"buying\": object ,\n",
        "              \"maint\" :object, #will be read with \"parse_dates\" parameter\n",
        "              \"doors\" : np.int8, \n",
        "              \"persons\" : object,\n",
        "              \"lug_boot\" : object,  \n",
        "              \"safety\" : object,\n",
        "              \"class\" : object\n",
        "             }\n",
        "df_car = pd.read_csv('car_evaluation.csv', header=None,dtype=dtype_dict)\n",
        "df_car.columns= dtype_dict.keys()\n",
        "df_car"
      ],
      "metadata": {
        "id": "QrYeX8_4QOFh",
        "colab": {
          "base_uri": "https://localhost:8080/"
        },
        "outputId": "0dc477f6-8f3d-4b43-d156-9863f9a5248b"
      },
      "execution_count": null,
      "outputs": [
        {
          "output_type": "execute_result",
          "data": {
            "text/plain": [
              "     buying  maint  doors persons lug_boot safety  class\n",
              "0     vhigh  vhigh      2       2    small    low  unacc\n",
              "1     vhigh  vhigh      2       2    small    med  unacc\n",
              "2     vhigh  vhigh      2       2    small   high  unacc\n",
              "3     vhigh  vhigh      2       2      med    low  unacc\n",
              "4     vhigh  vhigh      2       2      med    med  unacc\n",
              "...     ...    ...    ...     ...      ...    ...    ...\n",
              "1723    low    low  5more    more      med    med   good\n",
              "1724    low    low  5more    more      med   high  vgood\n",
              "1725    low    low  5more    more      big    low  unacc\n",
              "1726    low    low  5more    more      big    med   good\n",
              "1727    low    low  5more    more      big   high  vgood\n",
              "\n",
              "[1728 rows x 7 columns]"
            ],
            "text/html": [
              "\n",
              "  <div id=\"df-c70bcb5f-0b50-4fa8-b129-d869e92823e2\">\n",
              "    <div class=\"colab-df-container\">\n",
              "      <div>\n",
              "<style scoped>\n",
              "    .dataframe tbody tr th:only-of-type {\n",
              "        vertical-align: middle;\n",
              "    }\n",
              "\n",
              "    .dataframe tbody tr th {\n",
              "        vertical-align: top;\n",
              "    }\n",
              "\n",
              "    .dataframe thead th {\n",
              "        text-align: right;\n",
              "    }\n",
              "</style>\n",
              "<table border=\"1\" class=\"dataframe\">\n",
              "  <thead>\n",
              "    <tr style=\"text-align: right;\">\n",
              "      <th></th>\n",
              "      <th>buying</th>\n",
              "      <th>maint</th>\n",
              "      <th>doors</th>\n",
              "      <th>persons</th>\n",
              "      <th>lug_boot</th>\n",
              "      <th>safety</th>\n",
              "      <th>class</th>\n",
              "    </tr>\n",
              "  </thead>\n",
              "  <tbody>\n",
              "    <tr>\n",
              "      <th>0</th>\n",
              "      <td>vhigh</td>\n",
              "      <td>vhigh</td>\n",
              "      <td>2</td>\n",
              "      <td>2</td>\n",
              "      <td>small</td>\n",
              "      <td>low</td>\n",
              "      <td>unacc</td>\n",
              "    </tr>\n",
              "    <tr>\n",
              "      <th>1</th>\n",
              "      <td>vhigh</td>\n",
              "      <td>vhigh</td>\n",
              "      <td>2</td>\n",
              "      <td>2</td>\n",
              "      <td>small</td>\n",
              "      <td>med</td>\n",
              "      <td>unacc</td>\n",
              "    </tr>\n",
              "    <tr>\n",
              "      <th>2</th>\n",
              "      <td>vhigh</td>\n",
              "      <td>vhigh</td>\n",
              "      <td>2</td>\n",
              "      <td>2</td>\n",
              "      <td>small</td>\n",
              "      <td>high</td>\n",
              "      <td>unacc</td>\n",
              "    </tr>\n",
              "    <tr>\n",
              "      <th>3</th>\n",
              "      <td>vhigh</td>\n",
              "      <td>vhigh</td>\n",
              "      <td>2</td>\n",
              "      <td>2</td>\n",
              "      <td>med</td>\n",
              "      <td>low</td>\n",
              "      <td>unacc</td>\n",
              "    </tr>\n",
              "    <tr>\n",
              "      <th>4</th>\n",
              "      <td>vhigh</td>\n",
              "      <td>vhigh</td>\n",
              "      <td>2</td>\n",
              "      <td>2</td>\n",
              "      <td>med</td>\n",
              "      <td>med</td>\n",
              "      <td>unacc</td>\n",
              "    </tr>\n",
              "    <tr>\n",
              "      <th>...</th>\n",
              "      <td>...</td>\n",
              "      <td>...</td>\n",
              "      <td>...</td>\n",
              "      <td>...</td>\n",
              "      <td>...</td>\n",
              "      <td>...</td>\n",
              "      <td>...</td>\n",
              "    </tr>\n",
              "    <tr>\n",
              "      <th>1723</th>\n",
              "      <td>low</td>\n",
              "      <td>low</td>\n",
              "      <td>5more</td>\n",
              "      <td>more</td>\n",
              "      <td>med</td>\n",
              "      <td>med</td>\n",
              "      <td>good</td>\n",
              "    </tr>\n",
              "    <tr>\n",
              "      <th>1724</th>\n",
              "      <td>low</td>\n",
              "      <td>low</td>\n",
              "      <td>5more</td>\n",
              "      <td>more</td>\n",
              "      <td>med</td>\n",
              "      <td>high</td>\n",
              "      <td>vgood</td>\n",
              "    </tr>\n",
              "    <tr>\n",
              "      <th>1725</th>\n",
              "      <td>low</td>\n",
              "      <td>low</td>\n",
              "      <td>5more</td>\n",
              "      <td>more</td>\n",
              "      <td>big</td>\n",
              "      <td>low</td>\n",
              "      <td>unacc</td>\n",
              "    </tr>\n",
              "    <tr>\n",
              "      <th>1726</th>\n",
              "      <td>low</td>\n",
              "      <td>low</td>\n",
              "      <td>5more</td>\n",
              "      <td>more</td>\n",
              "      <td>big</td>\n",
              "      <td>med</td>\n",
              "      <td>good</td>\n",
              "    </tr>\n",
              "    <tr>\n",
              "      <th>1727</th>\n",
              "      <td>low</td>\n",
              "      <td>low</td>\n",
              "      <td>5more</td>\n",
              "      <td>more</td>\n",
              "      <td>big</td>\n",
              "      <td>high</td>\n",
              "      <td>vgood</td>\n",
              "    </tr>\n",
              "  </tbody>\n",
              "</table>\n",
              "<p>1728 rows × 7 columns</p>\n",
              "</div>\n",
              "      <button class=\"colab-df-convert\" onclick=\"convertToInteractive('df-c70bcb5f-0b50-4fa8-b129-d869e92823e2')\"\n",
              "              title=\"Convert this dataframe to an interactive table.\"\n",
              "              style=\"display:none;\">\n",
              "        \n",
              "  <svg xmlns=\"http://www.w3.org/2000/svg\" height=\"24px\"viewBox=\"0 0 24 24\"\n",
              "       width=\"24px\">\n",
              "    <path d=\"M0 0h24v24H0V0z\" fill=\"none\"/>\n",
              "    <path d=\"M18.56 5.44l.94 2.06.94-2.06 2.06-.94-2.06-.94-.94-2.06-.94 2.06-2.06.94zm-11 1L8.5 8.5l.94-2.06 2.06-.94-2.06-.94L8.5 2.5l-.94 2.06-2.06.94zm10 10l.94 2.06.94-2.06 2.06-.94-2.06-.94-.94-2.06-.94 2.06-2.06.94z\"/><path d=\"M17.41 7.96l-1.37-1.37c-.4-.4-.92-.59-1.43-.59-.52 0-1.04.2-1.43.59L10.3 9.45l-7.72 7.72c-.78.78-.78 2.05 0 2.83L4 21.41c.39.39.9.59 1.41.59.51 0 1.02-.2 1.41-.59l7.78-7.78 2.81-2.81c.8-.78.8-2.07 0-2.86zM5.41 20L4 18.59l7.72-7.72 1.47 1.35L5.41 20z\"/>\n",
              "  </svg>\n",
              "      </button>\n",
              "      \n",
              "  <style>\n",
              "    .colab-df-container {\n",
              "      display:flex;\n",
              "      flex-wrap:wrap;\n",
              "      gap: 12px;\n",
              "    }\n",
              "\n",
              "    .colab-df-convert {\n",
              "      background-color: #E8F0FE;\n",
              "      border: none;\n",
              "      border-radius: 50%;\n",
              "      cursor: pointer;\n",
              "      display: none;\n",
              "      fill: #1967D2;\n",
              "      height: 32px;\n",
              "      padding: 0 0 0 0;\n",
              "      width: 32px;\n",
              "    }\n",
              "\n",
              "    .colab-df-convert:hover {\n",
              "      background-color: #E2EBFA;\n",
              "      box-shadow: 0px 1px 2px rgba(60, 64, 67, 0.3), 0px 1px 3px 1px rgba(60, 64, 67, 0.15);\n",
              "      fill: #174EA6;\n",
              "    }\n",
              "\n",
              "    [theme=dark] .colab-df-convert {\n",
              "      background-color: #3B4455;\n",
              "      fill: #D2E3FC;\n",
              "    }\n",
              "\n",
              "    [theme=dark] .colab-df-convert:hover {\n",
              "      background-color: #434B5C;\n",
              "      box-shadow: 0px 1px 3px 1px rgba(0, 0, 0, 0.15);\n",
              "      filter: drop-shadow(0px 1px 2px rgba(0, 0, 0, 0.3));\n",
              "      fill: #FFFFFF;\n",
              "    }\n",
              "  </style>\n",
              "\n",
              "      <script>\n",
              "        const buttonEl =\n",
              "          document.querySelector('#df-c70bcb5f-0b50-4fa8-b129-d869e92823e2 button.colab-df-convert');\n",
              "        buttonEl.style.display =\n",
              "          google.colab.kernel.accessAllowed ? 'block' : 'none';\n",
              "\n",
              "        async function convertToInteractive(key) {\n",
              "          const element = document.querySelector('#df-c70bcb5f-0b50-4fa8-b129-d869e92823e2');\n",
              "          const dataTable =\n",
              "            await google.colab.kernel.invokeFunction('convertToInteractive',\n",
              "                                                     [key], {});\n",
              "          if (!dataTable) return;\n",
              "\n",
              "          const docLinkHtml = 'Like what you see? Visit the ' +\n",
              "            '<a target=\"_blank\" href=https://colab.research.google.com/notebooks/data_table.ipynb>data table notebook</a>'\n",
              "            + ' to learn more about interactive tables.';\n",
              "          element.innerHTML = '';\n",
              "          dataTable['output_type'] = 'display_data';\n",
              "          await google.colab.output.renderOutput(dataTable, element);\n",
              "          const docLink = document.createElement('div');\n",
              "          docLink.innerHTML = docLinkHtml;\n",
              "          element.appendChild(docLink);\n",
              "        }\n",
              "      </script>\n",
              "    </div>\n",
              "  </div>\n",
              "  "
            ]
          },
          "metadata": {},
          "execution_count": 2
        }
      ]
    },
    {
      "cell_type": "code",
      "source": [
        "df_car.shape"
      ],
      "metadata": {
        "colab": {
          "base_uri": "https://localhost:8080/"
        },
        "id": "sfIPVUxmO-2Q",
        "outputId": "12f0688e-f646-443f-9b22-46ff1c759323"
      },
      "execution_count": null,
      "outputs": [
        {
          "output_type": "execute_result",
          "data": {
            "text/plain": [
              "(1728, 7)"
            ]
          },
          "metadata": {},
          "execution_count": 3
        }
      ]
    },
    {
      "cell_type": "code",
      "source": [
        "df_car.head()"
      ],
      "metadata": {
        "colab": {
          "base_uri": "https://localhost:8080/"
        },
        "id": "u6Sl08enPI32",
        "outputId": "a901c0ed-6ff5-4e72-8050-b808179aa870"
      },
      "execution_count": null,
      "outputs": [
        {
          "output_type": "execute_result",
          "data": {
            "text/plain": [
              "  buying  maint doors persons lug_boot safety  class\n",
              "0  vhigh  vhigh     2       2    small    low  unacc\n",
              "1  vhigh  vhigh     2       2    small    med  unacc\n",
              "2  vhigh  vhigh     2       2    small   high  unacc\n",
              "3  vhigh  vhigh     2       2      med    low  unacc\n",
              "4  vhigh  vhigh     2       2      med    med  unacc"
            ],
            "text/html": [
              "\n",
              "  <div id=\"df-37b73d3d-4a7c-47d3-9da8-15cf021e3ace\">\n",
              "    <div class=\"colab-df-container\">\n",
              "      <div>\n",
              "<style scoped>\n",
              "    .dataframe tbody tr th:only-of-type {\n",
              "        vertical-align: middle;\n",
              "    }\n",
              "\n",
              "    .dataframe tbody tr th {\n",
              "        vertical-align: top;\n",
              "    }\n",
              "\n",
              "    .dataframe thead th {\n",
              "        text-align: right;\n",
              "    }\n",
              "</style>\n",
              "<table border=\"1\" class=\"dataframe\">\n",
              "  <thead>\n",
              "    <tr style=\"text-align: right;\">\n",
              "      <th></th>\n",
              "      <th>buying</th>\n",
              "      <th>maint</th>\n",
              "      <th>doors</th>\n",
              "      <th>persons</th>\n",
              "      <th>lug_boot</th>\n",
              "      <th>safety</th>\n",
              "      <th>class</th>\n",
              "    </tr>\n",
              "  </thead>\n",
              "  <tbody>\n",
              "    <tr>\n",
              "      <th>0</th>\n",
              "      <td>vhigh</td>\n",
              "      <td>vhigh</td>\n",
              "      <td>2</td>\n",
              "      <td>2</td>\n",
              "      <td>small</td>\n",
              "      <td>low</td>\n",
              "      <td>unacc</td>\n",
              "    </tr>\n",
              "    <tr>\n",
              "      <th>1</th>\n",
              "      <td>vhigh</td>\n",
              "      <td>vhigh</td>\n",
              "      <td>2</td>\n",
              "      <td>2</td>\n",
              "      <td>small</td>\n",
              "      <td>med</td>\n",
              "      <td>unacc</td>\n",
              "    </tr>\n",
              "    <tr>\n",
              "      <th>2</th>\n",
              "      <td>vhigh</td>\n",
              "      <td>vhigh</td>\n",
              "      <td>2</td>\n",
              "      <td>2</td>\n",
              "      <td>small</td>\n",
              "      <td>high</td>\n",
              "      <td>unacc</td>\n",
              "    </tr>\n",
              "    <tr>\n",
              "      <th>3</th>\n",
              "      <td>vhigh</td>\n",
              "      <td>vhigh</td>\n",
              "      <td>2</td>\n",
              "      <td>2</td>\n",
              "      <td>med</td>\n",
              "      <td>low</td>\n",
              "      <td>unacc</td>\n",
              "    </tr>\n",
              "    <tr>\n",
              "      <th>4</th>\n",
              "      <td>vhigh</td>\n",
              "      <td>vhigh</td>\n",
              "      <td>2</td>\n",
              "      <td>2</td>\n",
              "      <td>med</td>\n",
              "      <td>med</td>\n",
              "      <td>unacc</td>\n",
              "    </tr>\n",
              "  </tbody>\n",
              "</table>\n",
              "</div>\n",
              "      <button class=\"colab-df-convert\" onclick=\"convertToInteractive('df-37b73d3d-4a7c-47d3-9da8-15cf021e3ace')\"\n",
              "              title=\"Convert this dataframe to an interactive table.\"\n",
              "              style=\"display:none;\">\n",
              "        \n",
              "  <svg xmlns=\"http://www.w3.org/2000/svg\" height=\"24px\"viewBox=\"0 0 24 24\"\n",
              "       width=\"24px\">\n",
              "    <path d=\"M0 0h24v24H0V0z\" fill=\"none\"/>\n",
              "    <path d=\"M18.56 5.44l.94 2.06.94-2.06 2.06-.94-2.06-.94-.94-2.06-.94 2.06-2.06.94zm-11 1L8.5 8.5l.94-2.06 2.06-.94-2.06-.94L8.5 2.5l-.94 2.06-2.06.94zm10 10l.94 2.06.94-2.06 2.06-.94-2.06-.94-.94-2.06-.94 2.06-2.06.94z\"/><path d=\"M17.41 7.96l-1.37-1.37c-.4-.4-.92-.59-1.43-.59-.52 0-1.04.2-1.43.59L10.3 9.45l-7.72 7.72c-.78.78-.78 2.05 0 2.83L4 21.41c.39.39.9.59 1.41.59.51 0 1.02-.2 1.41-.59l7.78-7.78 2.81-2.81c.8-.78.8-2.07 0-2.86zM5.41 20L4 18.59l7.72-7.72 1.47 1.35L5.41 20z\"/>\n",
              "  </svg>\n",
              "      </button>\n",
              "      \n",
              "  <style>\n",
              "    .colab-df-container {\n",
              "      display:flex;\n",
              "      flex-wrap:wrap;\n",
              "      gap: 12px;\n",
              "    }\n",
              "\n",
              "    .colab-df-convert {\n",
              "      background-color: #E8F0FE;\n",
              "      border: none;\n",
              "      border-radius: 50%;\n",
              "      cursor: pointer;\n",
              "      display: none;\n",
              "      fill: #1967D2;\n",
              "      height: 32px;\n",
              "      padding: 0 0 0 0;\n",
              "      width: 32px;\n",
              "    }\n",
              "\n",
              "    .colab-df-convert:hover {\n",
              "      background-color: #E2EBFA;\n",
              "      box-shadow: 0px 1px 2px rgba(60, 64, 67, 0.3), 0px 1px 3px 1px rgba(60, 64, 67, 0.15);\n",
              "      fill: #174EA6;\n",
              "    }\n",
              "\n",
              "    [theme=dark] .colab-df-convert {\n",
              "      background-color: #3B4455;\n",
              "      fill: #D2E3FC;\n",
              "    }\n",
              "\n",
              "    [theme=dark] .colab-df-convert:hover {\n",
              "      background-color: #434B5C;\n",
              "      box-shadow: 0px 1px 3px 1px rgba(0, 0, 0, 0.15);\n",
              "      filter: drop-shadow(0px 1px 2px rgba(0, 0, 0, 0.3));\n",
              "      fill: #FFFFFF;\n",
              "    }\n",
              "  </style>\n",
              "\n",
              "      <script>\n",
              "        const buttonEl =\n",
              "          document.querySelector('#df-37b73d3d-4a7c-47d3-9da8-15cf021e3ace button.colab-df-convert');\n",
              "        buttonEl.style.display =\n",
              "          google.colab.kernel.accessAllowed ? 'block' : 'none';\n",
              "\n",
              "        async function convertToInteractive(key) {\n",
              "          const element = document.querySelector('#df-37b73d3d-4a7c-47d3-9da8-15cf021e3ace');\n",
              "          const dataTable =\n",
              "            await google.colab.kernel.invokeFunction('convertToInteractive',\n",
              "                                                     [key], {});\n",
              "          if (!dataTable) return;\n",
              "\n",
              "          const docLinkHtml = 'Like what you see? Visit the ' +\n",
              "            '<a target=\"_blank\" href=https://colab.research.google.com/notebooks/data_table.ipynb>data table notebook</a>'\n",
              "            + ' to learn more about interactive tables.';\n",
              "          element.innerHTML = '';\n",
              "          dataTable['output_type'] = 'display_data';\n",
              "          await google.colab.output.renderOutput(dataTable, element);\n",
              "          const docLink = document.createElement('div');\n",
              "          docLink.innerHTML = docLinkHtml;\n",
              "          element.appendChild(docLink);\n",
              "        }\n",
              "      </script>\n",
              "    </div>\n",
              "  </div>\n",
              "  "
            ]
          },
          "metadata": {},
          "execution_count": 4
        }
      ]
    },
    {
      "cell_type": "code",
      "source": [
        "df_car.info()"
      ],
      "metadata": {
        "colab": {
          "base_uri": "https://localhost:8080/"
        },
        "id": "tCTRGON2PJ0_",
        "outputId": "696bdb12-6365-4bac-e3b7-0d8bb0a85019"
      },
      "execution_count": null,
      "outputs": [
        {
          "output_type": "stream",
          "name": "stdout",
          "text": [
            "<class 'pandas.core.frame.DataFrame'>\n",
            "RangeIndex: 1728 entries, 0 to 1727\n",
            "Data columns (total 7 columns):\n",
            " #   Column    Non-Null Count  Dtype \n",
            "---  ------    --------------  ----- \n",
            " 0   buying    1728 non-null   object\n",
            " 1   maint     1728 non-null   object\n",
            " 2   doors     1728 non-null   object\n",
            " 3   persons   1728 non-null   object\n",
            " 4   lug_boot  1728 non-null   object\n",
            " 5   safety    1728 non-null   object\n",
            " 6   class     1728 non-null   object\n",
            "dtypes: object(7)\n",
            "memory usage: 94.6+ KB\n"
          ]
        }
      ]
    },
    {
      "cell_type": "code",
      "source": [
        "df_car.isnull().sum()"
      ],
      "metadata": {
        "colab": {
          "base_uri": "https://localhost:8080/"
        },
        "id": "rKyUOgPOPM_n",
        "outputId": "39b27775-d44f-4f8f-a8a8-5b6dd5562dea"
      },
      "execution_count": null,
      "outputs": [
        {
          "output_type": "execute_result",
          "data": {
            "text/plain": [
              "buying      0\n",
              "maint       0\n",
              "doors       0\n",
              "persons     0\n",
              "lug_boot    0\n",
              "safety      0\n",
              "class       0\n",
              "dtype: int64"
            ]
          },
          "metadata": {},
          "execution_count": 6
        }
      ]
    },
    {
      "cell_type": "markdown",
      "source": [
        "# <h2>2. Preparación de los datos.</h2>"
      ],
      "metadata": {
        "id": "c1rkDNkLa04T"
      }
    },
    {
      "cell_type": "code",
      "source": [
        "# declare feature vector and target variable \n",
        "X = df_car.drop(['class'], axis=1)\n",
        "y = df_car['class']"
      ],
      "metadata": {
        "id": "QAhsx7N4PScl"
      },
      "execution_count": null,
      "outputs": []
    },
    {
      "cell_type": "code",
      "source": [
        "# split X and y into training and testing sets\n",
        "X_train, X_test, y_train, y_test = train_test_split(X, y, test_size = 0.33, random_state = 42)"
      ],
      "metadata": {
        "id": "cmik-hrjPbOl"
      },
      "execution_count": null,
      "outputs": []
    },
    {
      "cell_type": "code",
      "source": [
        "# check the shape of X_train and X_test\n",
        "X_train.shape, X_test.shape"
      ],
      "metadata": {
        "colab": {
          "base_uri": "https://localhost:8080/"
        },
        "id": "iiQbJ-byPd49",
        "outputId": "93f4eac8-9544-4221-f08b-6ec24cb0991e"
      },
      "execution_count": null,
      "outputs": [
        {
          "output_type": "execute_result",
          "data": {
            "text/plain": [
              "((1157, 6), (571, 6))"
            ]
          },
          "metadata": {},
          "execution_count": 9
        }
      ]
    },
    {
      "cell_type": "code",
      "source": [
        "# encode variables with ordinal encoding\n",
        "encoder = ce.OrdinalEncoder(cols=['buying', 'maint', 'doors', 'persons', 'lug_boot', 'safety'])\n",
        "\n",
        "X_train = encoder.fit_transform(X_train)\n",
        "X_test = encoder.transform(X_test)"
      ],
      "metadata": {
        "id": "-5U7Oo3DPm88"
      },
      "execution_count": null,
      "outputs": []
    },
    {
      "cell_type": "code",
      "source": [
        "X_train.head()"
      ],
      "metadata": {
        "colab": {
          "base_uri": "https://localhost:8080/",
          "height": 206
        },
        "id": "g4LW3mB5WjPW",
        "outputId": "49e36d3f-dc4d-48d1-f223-d048c4405c34"
      },
      "execution_count": null,
      "outputs": [
        {
          "output_type": "execute_result",
          "data": {
            "text/plain": [
              "      buying  maint  doors  persons  lug_boot  safety\n",
              "48         1      1      1        1         1       1\n",
              "468        2      1      1        2         2       1\n",
              "155        1      2      1        1         2       2\n",
              "1721       3      3      2        1         2       2\n",
              "1208       4      3      3        1         2       2"
            ],
            "text/html": [
              "\n",
              "  <div id=\"df-b3cac259-78f3-468d-9250-6ee00520291f\">\n",
              "    <div class=\"colab-df-container\">\n",
              "      <div>\n",
              "<style scoped>\n",
              "    .dataframe tbody tr th:only-of-type {\n",
              "        vertical-align: middle;\n",
              "    }\n",
              "\n",
              "    .dataframe tbody tr th {\n",
              "        vertical-align: top;\n",
              "    }\n",
              "\n",
              "    .dataframe thead th {\n",
              "        text-align: right;\n",
              "    }\n",
              "</style>\n",
              "<table border=\"1\" class=\"dataframe\">\n",
              "  <thead>\n",
              "    <tr style=\"text-align: right;\">\n",
              "      <th></th>\n",
              "      <th>buying</th>\n",
              "      <th>maint</th>\n",
              "      <th>doors</th>\n",
              "      <th>persons</th>\n",
              "      <th>lug_boot</th>\n",
              "      <th>safety</th>\n",
              "    </tr>\n",
              "  </thead>\n",
              "  <tbody>\n",
              "    <tr>\n",
              "      <th>48</th>\n",
              "      <td>1</td>\n",
              "      <td>1</td>\n",
              "      <td>1</td>\n",
              "      <td>1</td>\n",
              "      <td>1</td>\n",
              "      <td>1</td>\n",
              "    </tr>\n",
              "    <tr>\n",
              "      <th>468</th>\n",
              "      <td>2</td>\n",
              "      <td>1</td>\n",
              "      <td>1</td>\n",
              "      <td>2</td>\n",
              "      <td>2</td>\n",
              "      <td>1</td>\n",
              "    </tr>\n",
              "    <tr>\n",
              "      <th>155</th>\n",
              "      <td>1</td>\n",
              "      <td>2</td>\n",
              "      <td>1</td>\n",
              "      <td>1</td>\n",
              "      <td>2</td>\n",
              "      <td>2</td>\n",
              "    </tr>\n",
              "    <tr>\n",
              "      <th>1721</th>\n",
              "      <td>3</td>\n",
              "      <td>3</td>\n",
              "      <td>2</td>\n",
              "      <td>1</td>\n",
              "      <td>2</td>\n",
              "      <td>2</td>\n",
              "    </tr>\n",
              "    <tr>\n",
              "      <th>1208</th>\n",
              "      <td>4</td>\n",
              "      <td>3</td>\n",
              "      <td>3</td>\n",
              "      <td>1</td>\n",
              "      <td>2</td>\n",
              "      <td>2</td>\n",
              "    </tr>\n",
              "  </tbody>\n",
              "</table>\n",
              "</div>\n",
              "      <button class=\"colab-df-convert\" onclick=\"convertToInteractive('df-b3cac259-78f3-468d-9250-6ee00520291f')\"\n",
              "              title=\"Convert this dataframe to an interactive table.\"\n",
              "              style=\"display:none;\">\n",
              "        \n",
              "  <svg xmlns=\"http://www.w3.org/2000/svg\" height=\"24px\"viewBox=\"0 0 24 24\"\n",
              "       width=\"24px\">\n",
              "    <path d=\"M0 0h24v24H0V0z\" fill=\"none\"/>\n",
              "    <path d=\"M18.56 5.44l.94 2.06.94-2.06 2.06-.94-2.06-.94-.94-2.06-.94 2.06-2.06.94zm-11 1L8.5 8.5l.94-2.06 2.06-.94-2.06-.94L8.5 2.5l-.94 2.06-2.06.94zm10 10l.94 2.06.94-2.06 2.06-.94-2.06-.94-.94-2.06-.94 2.06-2.06.94z\"/><path d=\"M17.41 7.96l-1.37-1.37c-.4-.4-.92-.59-1.43-.59-.52 0-1.04.2-1.43.59L10.3 9.45l-7.72 7.72c-.78.78-.78 2.05 0 2.83L4 21.41c.39.39.9.59 1.41.59.51 0 1.02-.2 1.41-.59l7.78-7.78 2.81-2.81c.8-.78.8-2.07 0-2.86zM5.41 20L4 18.59l7.72-7.72 1.47 1.35L5.41 20z\"/>\n",
              "  </svg>\n",
              "      </button>\n",
              "      \n",
              "  <style>\n",
              "    .colab-df-container {\n",
              "      display:flex;\n",
              "      flex-wrap:wrap;\n",
              "      gap: 12px;\n",
              "    }\n",
              "\n",
              "    .colab-df-convert {\n",
              "      background-color: #E8F0FE;\n",
              "      border: none;\n",
              "      border-radius: 50%;\n",
              "      cursor: pointer;\n",
              "      display: none;\n",
              "      fill: #1967D2;\n",
              "      height: 32px;\n",
              "      padding: 0 0 0 0;\n",
              "      width: 32px;\n",
              "    }\n",
              "\n",
              "    .colab-df-convert:hover {\n",
              "      background-color: #E2EBFA;\n",
              "      box-shadow: 0px 1px 2px rgba(60, 64, 67, 0.3), 0px 1px 3px 1px rgba(60, 64, 67, 0.15);\n",
              "      fill: #174EA6;\n",
              "    }\n",
              "\n",
              "    [theme=dark] .colab-df-convert {\n",
              "      background-color: #3B4455;\n",
              "      fill: #D2E3FC;\n",
              "    }\n",
              "\n",
              "    [theme=dark] .colab-df-convert:hover {\n",
              "      background-color: #434B5C;\n",
              "      box-shadow: 0px 1px 3px 1px rgba(0, 0, 0, 0.15);\n",
              "      filter: drop-shadow(0px 1px 2px rgba(0, 0, 0, 0.3));\n",
              "      fill: #FFFFFF;\n",
              "    }\n",
              "  </style>\n",
              "\n",
              "      <script>\n",
              "        const buttonEl =\n",
              "          document.querySelector('#df-b3cac259-78f3-468d-9250-6ee00520291f button.colab-df-convert');\n",
              "        buttonEl.style.display =\n",
              "          google.colab.kernel.accessAllowed ? 'block' : 'none';\n",
              "\n",
              "        async function convertToInteractive(key) {\n",
              "          const element = document.querySelector('#df-b3cac259-78f3-468d-9250-6ee00520291f');\n",
              "          const dataTable =\n",
              "            await google.colab.kernel.invokeFunction('convertToInteractive',\n",
              "                                                     [key], {});\n",
              "          if (!dataTable) return;\n",
              "\n",
              "          const docLinkHtml = 'Like what you see? Visit the ' +\n",
              "            '<a target=\"_blank\" href=https://colab.research.google.com/notebooks/data_table.ipynb>data table notebook</a>'\n",
              "            + ' to learn more about interactive tables.';\n",
              "          element.innerHTML = '';\n",
              "          dataTable['output_type'] = 'display_data';\n",
              "          await google.colab.output.renderOutput(dataTable, element);\n",
              "          const docLink = document.createElement('div');\n",
              "          docLink.innerHTML = docLinkHtml;\n",
              "          element.appendChild(docLink);\n",
              "        }\n",
              "      </script>\n",
              "    </div>\n",
              "  </div>\n",
              "  "
            ]
          },
          "metadata": {},
          "execution_count": 11
        }
      ]
    },
    {
      "cell_type": "code",
      "source": [
        "X_test.head()"
      ],
      "metadata": {
        "colab": {
          "base_uri": "https://localhost:8080/",
          "height": 206
        },
        "id": "uk5f2mhzWwK4",
        "outputId": "a6c331cf-8680-4651-e127-08f4bdf90b18"
      },
      "execution_count": null,
      "outputs": [
        {
          "output_type": "execute_result",
          "data": {
            "text/plain": [
              "      buying  maint  doors  persons  lug_boot  safety\n",
              "599        2      2      4        3         1       2\n",
              "1201       4      3      3        2         1       3\n",
              "628        2      2      2        3         3       3\n",
              "1498       3      2      2        2         1       3\n",
              "1263       4      3      4        1         1       1"
            ],
            "text/html": [
              "\n",
              "  <div id=\"df-7600846d-6cf4-4737-b070-76e1153f3401\">\n",
              "    <div class=\"colab-df-container\">\n",
              "      <div>\n",
              "<style scoped>\n",
              "    .dataframe tbody tr th:only-of-type {\n",
              "        vertical-align: middle;\n",
              "    }\n",
              "\n",
              "    .dataframe tbody tr th {\n",
              "        vertical-align: top;\n",
              "    }\n",
              "\n",
              "    .dataframe thead th {\n",
              "        text-align: right;\n",
              "    }\n",
              "</style>\n",
              "<table border=\"1\" class=\"dataframe\">\n",
              "  <thead>\n",
              "    <tr style=\"text-align: right;\">\n",
              "      <th></th>\n",
              "      <th>buying</th>\n",
              "      <th>maint</th>\n",
              "      <th>doors</th>\n",
              "      <th>persons</th>\n",
              "      <th>lug_boot</th>\n",
              "      <th>safety</th>\n",
              "    </tr>\n",
              "  </thead>\n",
              "  <tbody>\n",
              "    <tr>\n",
              "      <th>599</th>\n",
              "      <td>2</td>\n",
              "      <td>2</td>\n",
              "      <td>4</td>\n",
              "      <td>3</td>\n",
              "      <td>1</td>\n",
              "      <td>2</td>\n",
              "    </tr>\n",
              "    <tr>\n",
              "      <th>1201</th>\n",
              "      <td>4</td>\n",
              "      <td>3</td>\n",
              "      <td>3</td>\n",
              "      <td>2</td>\n",
              "      <td>1</td>\n",
              "      <td>3</td>\n",
              "    </tr>\n",
              "    <tr>\n",
              "      <th>628</th>\n",
              "      <td>2</td>\n",
              "      <td>2</td>\n",
              "      <td>2</td>\n",
              "      <td>3</td>\n",
              "      <td>3</td>\n",
              "      <td>3</td>\n",
              "    </tr>\n",
              "    <tr>\n",
              "      <th>1498</th>\n",
              "      <td>3</td>\n",
              "      <td>2</td>\n",
              "      <td>2</td>\n",
              "      <td>2</td>\n",
              "      <td>1</td>\n",
              "      <td>3</td>\n",
              "    </tr>\n",
              "    <tr>\n",
              "      <th>1263</th>\n",
              "      <td>4</td>\n",
              "      <td>3</td>\n",
              "      <td>4</td>\n",
              "      <td>1</td>\n",
              "      <td>1</td>\n",
              "      <td>1</td>\n",
              "    </tr>\n",
              "  </tbody>\n",
              "</table>\n",
              "</div>\n",
              "      <button class=\"colab-df-convert\" onclick=\"convertToInteractive('df-7600846d-6cf4-4737-b070-76e1153f3401')\"\n",
              "              title=\"Convert this dataframe to an interactive table.\"\n",
              "              style=\"display:none;\">\n",
              "        \n",
              "  <svg xmlns=\"http://www.w3.org/2000/svg\" height=\"24px\"viewBox=\"0 0 24 24\"\n",
              "       width=\"24px\">\n",
              "    <path d=\"M0 0h24v24H0V0z\" fill=\"none\"/>\n",
              "    <path d=\"M18.56 5.44l.94 2.06.94-2.06 2.06-.94-2.06-.94-.94-2.06-.94 2.06-2.06.94zm-11 1L8.5 8.5l.94-2.06 2.06-.94-2.06-.94L8.5 2.5l-.94 2.06-2.06.94zm10 10l.94 2.06.94-2.06 2.06-.94-2.06-.94-.94-2.06-.94 2.06-2.06.94z\"/><path d=\"M17.41 7.96l-1.37-1.37c-.4-.4-.92-.59-1.43-.59-.52 0-1.04.2-1.43.59L10.3 9.45l-7.72 7.72c-.78.78-.78 2.05 0 2.83L4 21.41c.39.39.9.59 1.41.59.51 0 1.02-.2 1.41-.59l7.78-7.78 2.81-2.81c.8-.78.8-2.07 0-2.86zM5.41 20L4 18.59l7.72-7.72 1.47 1.35L5.41 20z\"/>\n",
              "  </svg>\n",
              "      </button>\n",
              "      \n",
              "  <style>\n",
              "    .colab-df-container {\n",
              "      display:flex;\n",
              "      flex-wrap:wrap;\n",
              "      gap: 12px;\n",
              "    }\n",
              "\n",
              "    .colab-df-convert {\n",
              "      background-color: #E8F0FE;\n",
              "      border: none;\n",
              "      border-radius: 50%;\n",
              "      cursor: pointer;\n",
              "      display: none;\n",
              "      fill: #1967D2;\n",
              "      height: 32px;\n",
              "      padding: 0 0 0 0;\n",
              "      width: 32px;\n",
              "    }\n",
              "\n",
              "    .colab-df-convert:hover {\n",
              "      background-color: #E2EBFA;\n",
              "      box-shadow: 0px 1px 2px rgba(60, 64, 67, 0.3), 0px 1px 3px 1px rgba(60, 64, 67, 0.15);\n",
              "      fill: #174EA6;\n",
              "    }\n",
              "\n",
              "    [theme=dark] .colab-df-convert {\n",
              "      background-color: #3B4455;\n",
              "      fill: #D2E3FC;\n",
              "    }\n",
              "\n",
              "    [theme=dark] .colab-df-convert:hover {\n",
              "      background-color: #434B5C;\n",
              "      box-shadow: 0px 1px 3px 1px rgba(0, 0, 0, 0.15);\n",
              "      filter: drop-shadow(0px 1px 2px rgba(0, 0, 0, 0.3));\n",
              "      fill: #FFFFFF;\n",
              "    }\n",
              "  </style>\n",
              "\n",
              "      <script>\n",
              "        const buttonEl =\n",
              "          document.querySelector('#df-7600846d-6cf4-4737-b070-76e1153f3401 button.colab-df-convert');\n",
              "        buttonEl.style.display =\n",
              "          google.colab.kernel.accessAllowed ? 'block' : 'none';\n",
              "\n",
              "        async function convertToInteractive(key) {\n",
              "          const element = document.querySelector('#df-7600846d-6cf4-4737-b070-76e1153f3401');\n",
              "          const dataTable =\n",
              "            await google.colab.kernel.invokeFunction('convertToInteractive',\n",
              "                                                     [key], {});\n",
              "          if (!dataTable) return;\n",
              "\n",
              "          const docLinkHtml = 'Like what you see? Visit the ' +\n",
              "            '<a target=\"_blank\" href=https://colab.research.google.com/notebooks/data_table.ipynb>data table notebook</a>'\n",
              "            + ' to learn more about interactive tables.';\n",
              "          element.innerHTML = '';\n",
              "          dataTable['output_type'] = 'display_data';\n",
              "          await google.colab.output.renderOutput(dataTable, element);\n",
              "          const docLink = document.createElement('div');\n",
              "          docLink.innerHTML = docLinkHtml;\n",
              "          element.appendChild(docLink);\n",
              "        }\n",
              "      </script>\n",
              "    </div>\n",
              "  </div>\n",
              "  "
            ]
          },
          "metadata": {},
          "execution_count": 12
        }
      ]
    },
    {
      "cell_type": "markdown",
      "source": [
        "# <h2> 3.Modelo: Decision Tree.</h2>"
      ],
      "metadata": {
        "id": "-1YoKpWIZ11O"
      }
    },
    {
      "cell_type": "code",
      "source": [
        "# instantiate the DecisionTreeClassifier model with criterion gini index\n",
        "clf_gini = DecisionTreeClassifier(criterion='gini', max_depth=3, random_state=0)\n",
        "\n",
        "# fit the model\n",
        "clf_gini.fit(X_train, y_train)"
      ],
      "metadata": {
        "colab": {
          "base_uri": "https://localhost:8080/"
        },
        "id": "ZyMV2uSDWx51",
        "outputId": "0fea032b-69ba-4fe1-c581-2c0184fd2837"
      },
      "execution_count": null,
      "outputs": [
        {
          "output_type": "execute_result",
          "data": {
            "text/plain": [
              "DecisionTreeClassifier(max_depth=3, random_state=0)"
            ]
          },
          "metadata": {},
          "execution_count": 18
        }
      ]
    },
    {
      "cell_type": "code",
      "source": [
        "# predict the Test set results with criterion gini index\n",
        "y_pred_gini = clf_gini.predict(X_test)\n",
        "print('Model accuracy score with criterion gini index: {0:0.4f}'. format(accuracy_score(y_test, y_pred_gini)))"
      ],
      "metadata": {
        "colab": {
          "base_uri": "https://localhost:8080/"
        },
        "id": "HFTk7szMW7T-",
        "outputId": "d98ca767-c608-4941-e704-a4c07ac7a24e"
      },
      "execution_count": null,
      "outputs": [
        {
          "output_type": "stream",
          "name": "stdout",
          "text": [
            "Model accuracy score with criterion gini index: 0.8021\n"
          ]
        }
      ]
    },
    {
      "cell_type": "code",
      "source": [
        "# compare the train-set and test-set accuracy\n",
        "y_pred_train_gini = clf_gini.predict(X_train)\n",
        "y_pred_train_gini\n",
        "print('Training-set accuracy score: {0:0.4f}'. format(accuracy_score(y_train, y_pred_train_gini)))"
      ],
      "metadata": {
        "colab": {
          "base_uri": "https://localhost:8080/"
        },
        "id": "uABCRjY7XPpi",
        "outputId": "c717c67d-0928-4a02-c1c9-69a2e75a32e3"
      },
      "execution_count": null,
      "outputs": [
        {
          "output_type": "stream",
          "name": "stdout",
          "text": [
            "Training-set accuracy score: 0.7865\n"
          ]
        }
      ]
    },
    {
      "cell_type": "code",
      "source": [
        "# print the scores on training and test set\n",
        "print('Training set score: {:.4f}'.format(clf_gini.score(X_train, y_train)))\n",
        "print('Test set score: {:.4f}'.format(clf_gini.score(X_test, y_test)))"
      ],
      "metadata": {
        "colab": {
          "base_uri": "https://localhost:8080/"
        },
        "id": "28Xe8qy2Xgi-",
        "outputId": "08a79abf-3fc2-49a3-acb8-1f91cda483f9"
      },
      "execution_count": null,
      "outputs": [
        {
          "output_type": "stream",
          "name": "stdout",
          "text": [
            "Training set score: 0.7865\n",
            "Test set score: 0.8021\n"
          ]
        }
      ]
    },
    {
      "cell_type": "code",
      "source": [
        "# visualize decision-trees\n",
        "plt.figure(figsize=(12,8))\n",
        "tree.plot_tree(clf_gini.fit(X_train, y_train)) "
      ],
      "metadata": {
        "colab": {
          "base_uri": "https://localhost:8080/",
          "height": 588
        },
        "id": "c-G2rO9aYDok",
        "outputId": "3af419c5-f8ce-4547-9308-a0e7fe1dafe1"
      },
      "execution_count": null,
      "outputs": [
        {
          "output_type": "execute_result",
          "data": {
            "text/plain": [
              "[Text(0.4, 0.875, 'X[5] <= 1.5\\ngini = 0.455\\nsamples = 1157\\nvalue = [255, 49, 813, 40]'),\n",
              " Text(0.2, 0.625, 'gini = 0.0\\nsamples = 386\\nvalue = [0, 0, 386, 0]'),\n",
              " Text(0.6, 0.625, 'X[3] <= 2.5\\ngini = 0.577\\nsamples = 771\\nvalue = [255, 49, 427, 40]'),\n",
              " Text(0.4, 0.375, 'X[0] <= 2.5\\ngini = 0.631\\nsamples = 525\\nvalue = [255, 49, 181, 40]'),\n",
              " Text(0.2, 0.125, 'gini = 0.496\\nsamples = 271\\nvalue = [124, 0, 147, 0]'),\n",
              " Text(0.6, 0.125, 'gini = 0.654\\nsamples = 254\\nvalue = [131, 49, 34, 40]'),\n",
              " Text(0.8, 0.375, 'gini = 0.0\\nsamples = 246\\nvalue = [0, 0, 246, 0]')]"
            ]
          },
          "metadata": {},
          "execution_count": 22
        },
        {
          "output_type": "display_data",
          "data": {
            "text/plain": [
              "<Figure size 864x576 with 1 Axes>"
            ],
            "image/png": "[encoded data removed]"
          },
          "metadata": {
            "needs_background": "light"
          }
        }
      ]
    },
    {
      "cell_type": "markdown",
      "source": [
        "# <h2> 4.Modelo: Decision Tree Sklearn:</h2>"
      ],
      "metadata": {
        "id": "siluiscOboLw"
      }
    },
    {
      "cell_type": "code",
      "source": [
        "# encode variables with ordinal encoding\n",
        "encoder = ce.OrdinalEncoder(cols=['buying', 'maint', 'doors', 'persons', 'lug_boot', 'safety'])\n",
        "\n",
        "X_train = encoder.fit_transform(X_train)\n",
        "X_test = encoder.transform(X_test)"
      ],
      "metadata": {
        "id": "9C39wCGOc8PM"
      },
      "execution_count": null,
      "outputs": []
    },
    {
      "cell_type": "code",
      "source": [
        "clf = tree.DecisionTreeClassifier()\n",
        "clf = clf.fit(X_train, y_train)\n",
        "plt.figure(figsize=(12,8))\n",
        "tree.plot_tree(clf)"
      ],
      "metadata": {
        "id": "auqmRhp1dHgN",
        "colab": {
          "base_uri": "https://localhost:8080/",
          "height": 1000
        },
        "outputId": "25215ecf-65ec-4b83-f522-932fd1662adc"
      },
      "execution_count": null,
      "outputs": [
        {
          "output_type": "execute_result",
          "data": {
            "text/plain": [
              "[Text(0.3626543209876543, 0.9615384615384616, 'X[5] <= 1.5\\ngini = 0.455\\nsamples = 1157\\nvalue = [255, 49, 813, 40]'),\n",
              " Text(0.35030864197530864, 0.8846153846153846, 'gini = 0.0\\nsamples = 386\\nvalue = [0, 0, 386, 0]'),\n",
              " Text(0.375, 0.8846153846153846, 'X[3] <= 2.5\\ngini = 0.577\\nsamples = 771\\nvalue = [255, 49, 427, 40]'),\n",
              " Text(0.3626543209876543, 0.8076923076923077, 'X[0] <= 2.5\\ngini = 0.631\\nsamples = 525\\nvalue = [255, 49, 181, 40]'),\n",
              " Text(0.10493827160493827, 0.7307692307692307, 'X[1] <= 2.5\\ngini = 0.496\\nsamples = 271\\nvalue = [124, 0, 147, 0]'),\n",
              " Text(0.037037037037037035, 0.6538461538461539, 'X[0] <= 1.5\\ngini = 0.259\\nsamples = 131\\nvalue = [20, 0, 111, 0]'),\n",
              " Text(0.024691358024691357, 0.5769230769230769, 'gini = 0.0\\nsamples = 70\\nvalue = [0, 0, 70, 0]'),\n",
              " Text(0.04938271604938271, 0.5769230769230769, 'X[1] <= 1.5\\ngini = 0.441\\nsamples = 61\\nvalue = [20, 0, 41, 0]'),\n",
              " Text(0.037037037037037035, 0.5, 'gini = 0.0\\nsamples = 32\\nvalue = [0, 0, 32, 0]'),\n",
              " Text(0.06172839506172839, 0.5, 'X[5] <= 2.5\\ngini = 0.428\\nsamples = 29\\nvalue = [20, 0, 9, 0]'),\n",
              " Text(0.04938271604938271, 0.4230769230769231, 'gini = 0.0\\nsamples = 14\\nvalue = [14, 0, 0, 0]'),\n",
              " Text(0.07407407407407407, 0.4230769230769231, 'X[4] <= 2.5\\ngini = 0.48\\nsamples = 15\\nvalue = [6, 0, 9, 0]'),\n",
              " Text(0.06172839506172839, 0.34615384615384615, 'X[4] <= 1.5\\ngini = 0.298\\nsamples = 11\\nvalue = [2, 0, 9, 0]'),\n",
              " Text(0.04938271604938271, 0.2692307692307692, 'X[2] <= 3.5\\ngini = 0.48\\nsamples = 5\\nvalue = [2, 0, 3, 0]'),\n",
              " Text(0.037037037037037035, 0.19230769230769232, 'X[2] <= 2.5\\ngini = 0.375\\nsamples = 4\\nvalue = [1, 0, 3, 0]'),\n",
              " Text(0.024691358024691357, 0.11538461538461539, 'X[2] <= 1.5\\ngini = 0.5\\nsamples = 2\\nvalue = [1, 0, 1, 0]'),\n",
              " Text(0.012345679012345678, 0.038461538461538464, 'gini = 0.0\\nsamples = 1\\nvalue = [0, 0, 1, 0]'),\n",
              " Text(0.037037037037037035, 0.038461538461538464, 'gini = 0.0\\nsamples = 1\\nvalue = [1, 0, 0, 0]'),\n",
              " Text(0.04938271604938271, 0.11538461538461539, 'gini = 0.0\\nsamples = 2\\nvalue = [0, 0, 2, 0]'),\n",
              " Text(0.06172839506172839, 0.19230769230769232, 'gini = 0.0\\nsamples = 1\\nvalue = [1, 0, 0, 0]'),\n",
              " Text(0.07407407407407407, 0.2692307692307692, 'gini = 0.0\\nsamples = 6\\nvalue = [0, 0, 6, 0]'),\n",
              " Text(0.08641975308641975, 0.34615384615384615, 'gini = 0.0\\nsamples = 4\\nvalue = [4, 0, 0, 0]'),\n",
              " Text(0.1728395061728395, 0.6538461538461539, 'X[5] <= 2.5\\ngini = 0.382\\nsamples = 140\\nvalue = [104, 0, 36, 0]'),\n",
              " Text(0.12345679012345678, 0.5769230769230769, 'X[3] <= 1.5\\ngini = 0.056\\nsamples = 70\\nvalue = [68, 0, 2, 0]'),\n",
              " Text(0.1111111111111111, 0.5, 'X[2] <= 2.5\\ngini = 0.124\\nsamples = 30\\nvalue = [28, 0, 2, 0]'),\n",
              " Text(0.09876543209876543, 0.4230769230769231, 'gini = 0.0\\nsamples = 15\\nvalue = [15, 0, 0, 0]'),\n",
              " Text(0.12345679012345678, 0.4230769230769231, 'X[2] <= 3.5\\ngini = 0.231\\nsamples = 15\\nvalue = [13, 0, 2, 0]'),\n",
              " Text(0.1111111111111111, 0.34615384615384615, 'X[4] <= 1.5\\ngini = 0.444\\nsamples = 6\\nvalue = [4, 0, 2, 0]'),\n",
              " Text(0.09876543209876543, 0.2692307692307692, 'gini = 0.0\\nsamples = 3\\nvalue = [3, 0, 0, 0]'),\n",
              " Text(0.12345679012345678, 0.2692307692307692, 'X[4] <= 2.5\\ngini = 0.444\\nsamples = 3\\nvalue = [1, 0, 2, 0]'),\n",
              " Text(0.1111111111111111, 0.19230769230769232, 'gini = 0.0\\nsamples = 2\\nvalue = [0, 0, 2, 0]'),\n",
              " Text(0.13580246913580246, 0.19230769230769232, 'gini = 0.0\\nsamples = 1\\nvalue = [1, 0, 0, 0]'),\n",
              " Text(0.13580246913580246, 0.34615384615384615, 'gini = 0.0\\nsamples = 9\\nvalue = [9, 0, 0, 0]'),\n",
              " Text(0.13580246913580246, 0.5, 'gini = 0.0\\nsamples = 40\\nvalue = [40, 0, 0, 0]'),\n",
              " Text(0.2222222222222222, 0.5769230769230769, 'X[4] <= 2.5\\ngini = 0.5\\nsamples = 70\\nvalue = [36, 0, 34, 0]'),\n",
              " Text(0.20987654320987653, 0.5, 'X[4] <= 1.5\\ngini = 0.413\\nsamples = 48\\nvalue = [14, 0, 34, 0]'),\n",
              " Text(0.19753086419753085, 0.4230769230769231, 'X[2] <= 3.5\\ngini = 0.486\\nsamples = 24\\nvalue = [14, 0, 10, 0]'),\n",
              " Text(0.18518518518518517, 0.34615384615384615, 'X[2] <= 2.5\\ngini = 0.499\\nsamples = 19\\nvalue = [9, 0, 10, 0]'),\n",
              " Text(0.1728395061728395, 0.2692307692307692, 'X[2] <= 1.5\\ngini = 0.426\\nsamples = 13\\nvalue = [9, 0, 4, 0]'),\n",
              " Text(0.16049382716049382, 0.19230769230769232, 'X[3] <= 1.5\\ngini = 0.49\\nsamples = 7\\nvalue = [3, 0, 4, 0]'),\n",
              " Text(0.14814814814814814, 0.11538461538461539, 'gini = 0.0\\nsamples = 3\\nvalue = [3, 0, 0, 0]'),\n",
              " Text(0.1728395061728395, 0.11538461538461539, 'gini = 0.0\\nsamples = 4\\nvalue = [0, 0, 4, 0]'),\n",
              " Text(0.18518518518518517, 0.19230769230769232, 'gini = 0.0\\nsamples = 6\\nvalue = [6, 0, 0, 0]'),\n",
              " Text(0.19753086419753085, 0.2692307692307692, 'gini = 0.0\\nsamples = 6\\nvalue = [0, 0, 6, 0]'),\n",
              " Text(0.20987654320987653, 0.34615384615384615, 'gini = 0.0\\nsamples = 5\\nvalue = [5, 0, 0, 0]'),\n",
              " Text(0.2222222222222222, 0.4230769230769231, 'gini = 0.0\\nsamples = 24\\nvalue = [0, 0, 24, 0]'),\n",
              " Text(0.2345679012345679, 0.5, 'gini = 0.0\\nsamples = 22\\nvalue = [22, 0, 0, 0]'),\n",
              " Text(0.6203703703703703, 0.7307692307692307, 'X[1] <= 2.5\\ngini = 0.654\\nsamples = 254\\nvalue = [131, 49, 34, 40]'),\n",
              " Text(0.4382716049382716, 0.6538461538461539, 'X[5] <= 2.5\\ngini = 0.442\\nsamples = 129\\nvalue = [92, 0, 27, 10]'),\n",
              " Text(0.3271604938271605, 0.5769230769230769, 'X[1] <= 1.5\\ngini = 0.326\\nsamples = 67\\nvalue = [54, 0, 3, 10]'),\n",
              " Text(0.25925925925925924, 0.5, 'X[2] <= 2.5\\ngini = 0.114\\nsamples = 33\\nvalue = [31, 0, 2, 0]'),\n",
              " Text(0.24691358024691357, 0.4230769230769231, 'gini = 0.0\\nsamples = 18\\nvalue = [18, 0, 0, 0]'),\n",
              " Text(0.2716049382716049, 0.4230769230769231, 'X[2] <= 3.5\\ngini = 0.231\\nsamples = 15\\nvalue = [13, 0, 2, 0]'),\n",
              " Text(0.25925925925925924, 0.34615384615384615, 'X[4] <= 1.5\\ngini = 0.408\\nsamples = 7\\nvalue = [5, 0, 2, 0]'),\n",
              " Text(0.24691358024691357, 0.2692307692307692, 'gini = 0.0\\nsamples = 3\\nvalue = [3, 0, 0, 0]'),\n",
              " Text(0.2716049382716049, 0.2692307692307692, 'X[0] <= 3.5\\ngini = 0.5\\nsamples = 4\\nvalue = [2, 0, 2, 0]'),\n",
              " Text(0.25925925925925924, 0.19230769230769232, 'gini = 0.0\\nsamples = 1\\nvalue = [0, 0, 1, 0]'),\n",
              " Text(0.2839506172839506, 0.19230769230769232, 'X[3] <= 1.5\\ngini = 0.444\\nsamples = 3\\nvalue = [2, 0, 1, 0]'),\n",
              " Text(0.2716049382716049, 0.11538461538461539, 'X[4] <= 2.5\\ngini = 0.5\\nsamples = 2\\nvalue = [1, 0, 1, 0]'),\n",
              " Text(0.25925925925925924, 0.038461538461538464, 'gini = 0.0\\nsamples = 1\\nvalue = [0, 0, 1, 0]'),\n",
              " Text(0.2839506172839506, 0.038461538461538464, 'gini = 0.0\\nsamples = 1\\nvalue = [1, 0, 0, 0]'),\n",
              " Text(0.2962962962962963, 0.11538461538461539, 'gini = 0.0\\nsamples = 1\\nvalue = [1, 0, 0, 0]'),\n",
              " Text(0.2839506172839506, 0.34615384615384615, 'gini = 0.0\\nsamples = 8\\nvalue = [8, 0, 0, 0]'),\n",
              " Text(0.3950617283950617, 0.5, 'X[0] <= 3.5\\ngini = 0.455\\nsamples = 34\\nvalue = [23, 0, 1, 10]'),\n",
              " Text(0.37037037037037035, 0.4230769230769231, 'X[4] <= 2.5\\ngini = 0.494\\nsamples = 18\\nvalue = [8, 0, 0, 10]'),\n",
              " Text(0.35802469135802467, 0.34615384615384615, 'X[4] <= 1.5\\ngini = 0.32\\nsamples = 10\\nvalue = [8, 0, 0, 2]'),\n",
              " Text(0.345679012345679, 0.2692307692307692, 'X[2] <= 2.5\\ngini = 0.48\\nsamples = 5\\nvalue = [3, 0, 0, 2]'),\n",
              " Text(0.3333333333333333, 0.19230769230769232, 'X[2] <= 1.5\\ngini = 0.444\\nsamples = 3\\nvalue = [1, 0, 0, 2]'),\n",
              " Text(0.32098765432098764, 0.11538461538461539, 'gini = 0.0\\nsamples = 1\\nvalue = [1, 0, 0, 0]'),\n",
              " Text(0.345679012345679, 0.11538461538461539, 'gini = 0.0\\nsamples = 2\\nvalue = [0, 0, 0, 2]'),\n",
              " Text(0.35802469135802467, 0.19230769230769232, 'gini = 0.0\\nsamples = 2\\nvalue = [2, 0, 0, 0]'),\n",
              " Text(0.37037037037037035, 0.2692307692307692, 'gini = 0.0\\nsamples = 5\\nvalue = [5, 0, 0, 0]'),\n",
              " Text(0.38271604938271603, 0.34615384615384615, 'gini = 0.0\\nsamples = 8\\nvalue = [0, 0, 0, 8]'),\n",
              " Text(0.41975308641975306, 0.4230769230769231, 'X[2] <= 2.5\\ngini = 0.117\\nsamples = 16\\nvalue = [15, 0, 1, 0]'),\n",
              " Text(0.4074074074074074, 0.34615384615384615, 'gini = 0.0\\nsamples = 9\\nvalue = [9, 0, 0, 0]'),\n",
              " Text(0.43209876543209874, 0.34615384615384615, 'X[2] <= 3.5\\ngini = 0.245\\nsamples = 7\\nvalue = [6, 0, 1, 0]'),\n",
              " Text(0.41975308641975306, 0.2692307692307692, 'X[3] <= 1.5\\ngini = 0.375\\nsamples = 4\\nvalue = [3, 0, 1, 0]'),\n",
              " Text(0.4074074074074074, 0.19230769230769232, 'X[4] <= 1.5\\ngini = 0.5\\nsamples = 2\\nvalue = [1, 0, 1, 0]'),\n",
              " Text(0.3950617283950617, 0.11538461538461539, 'gini = 0.0\\nsamples = 1\\nvalue = [1, 0, 0, 0]'),\n",
              " Text(0.41975308641975306, 0.11538461538461539, 'gini = 0.0\\nsamples = 1\\nvalue = [0, 0, 1, 0]'),\n",
              " Text(0.43209876543209874, 0.19230769230769232, 'gini = 0.0\\nsamples = 2\\nvalue = [2, 0, 0, 0]'),\n",
              " Text(0.4444444444444444, 0.2692307692307692, 'gini = 0.0\\nsamples = 3\\nvalue = [3, 0, 0, 0]'),\n",
              " Text(0.5493827160493827, 0.5769230769230769, 'X[4] <= 2.5\\ngini = 0.475\\nsamples = 62\\nvalue = [38, 0, 24, 0]'),\n",
              " Text(0.5370370370370371, 0.5, 'X[4] <= 1.5\\ngini = 0.493\\nsamples = 43\\nvalue = [19, 0, 24, 0]'),\n",
              " Text(0.5061728395061729, 0.4230769230769231, 'X[2] <= 3.5\\ngini = 0.408\\nsamples = 21\\nvalue = [15, 0, 6, 0]'),\n",
              " Text(0.49382716049382713, 0.34615384615384615, 'X[2] <= 2.5\\ngini = 0.469\\nsamples = 16\\nvalue = [10, 0, 6, 0]'),\n",
              " Text(0.4691358024691358, 0.2692307692307692, 'X[2] <= 1.5\\ngini = 0.298\\nsamples = 11\\nvalue = [9, 0, 2, 0]'),\n",
              " Text(0.4567901234567901, 0.19230769230769232, 'X[3] <= 1.5\\ngini = 0.48\\nsamples = 5\\nvalue = [3, 0, 2, 0]'),\n",
              " Text(0.4444444444444444, 0.11538461538461539, 'gini = 0.0\\nsamples = 2\\nvalue = [2, 0, 0, 0]'),\n",
              " Text(0.4691358024691358, 0.11538461538461539, 'X[0] <= 3.5\\ngini = 0.444\\nsamples = 3\\nvalue = [1, 0, 2, 0]'),\n",
              " Text(0.4567901234567901, 0.038461538461538464, 'gini = 0.0\\nsamples = 1\\nvalue = [1, 0, 0, 0]'),\n",
              " Text(0.48148148148148145, 0.038461538461538464, 'gini = 0.0\\nsamples = 2\\nvalue = [0, 0, 2, 0]'),\n",
              " Text(0.48148148148148145, 0.19230769230769232, 'gini = 0.0\\nsamples = 6\\nvalue = [6, 0, 0, 0]'),\n",
              " Text(0.5185185185185185, 0.2692307692307692, 'X[0] <= 3.5\\ngini = 0.32\\nsamples = 5\\nvalue = [1, 0, 4, 0]'),\n",
              " Text(0.5061728395061729, 0.19230769230769232, 'X[1] <= 1.5\\ngini = 0.5\\nsamples = 2\\nvalue = [1, 0, 1, 0]'),\n",
              " Text(0.49382716049382713, 0.11538461538461539, 'gini = 0.0\\nsamples = 1\\nvalue = [0, 0, 1, 0]'),\n",
              " Text(0.5185185185185185, 0.11538461538461539, 'gini = 0.0\\nsamples = 1\\nvalue = [1, 0, 0, 0]'),\n",
              " Text(0.5308641975308642, 0.19230769230769232, 'gini = 0.0\\nsamples = 3\\nvalue = [0, 0, 3, 0]'),\n",
              " Text(0.5185185185185185, 0.34615384615384615, 'gini = 0.0\\nsamples = 5\\nvalue = [5, 0, 0, 0]'),\n",
              " Text(0.5679012345679012, 0.4230769230769231, 'X[1] <= 1.5\\ngini = 0.298\\nsamples = 22\\nvalue = [4, 0, 18, 0]'),\n",
              " Text(0.5555555555555556, 0.34615384615384615, 'gini = 0.0\\nsamples = 12\\nvalue = [0, 0, 12, 0]'),\n",
              " Text(0.5802469135802469, 0.34615384615384615, 'X[0] <= 3.5\\ngini = 0.48\\nsamples = 10\\nvalue = [4, 0, 6, 0]'),\n",
              " Text(0.5679012345679012, 0.2692307692307692, 'X[3] <= 1.5\\ngini = 0.32\\nsamples = 5\\nvalue = [4, 0, 1, 0]'),\n",
              " Text(0.5555555555555556, 0.19230769230769232, 'X[2] <= 3.5\\ngini = 0.5\\nsamples = 2\\nvalue = [1, 0, 1, 0]'),\n",
              " Text(0.5432098765432098, 0.11538461538461539, 'gini = 0.0\\nsamples = 1\\nvalue = [0, 0, 1, 0]'),\n",
              " Text(0.5679012345679012, 0.11538461538461539, 'gini = 0.0\\nsamples = 1\\nvalue = [1, 0, 0, 0]'),\n",
              " Text(0.5802469135802469, 0.19230769230769232, 'gini = 0.0\\nsamples = 3\\nvalue = [3, 0, 0, 0]'),\n",
              " Text(0.5925925925925926, 0.2692307692307692, 'gini = 0.0\\nsamples = 5\\nvalue = [0, 0, 5, 0]'),\n",
              " Text(0.5617283950617284, 0.5, 'gini = 0.0\\nsamples = 19\\nvalue = [19, 0, 0, 0]'),\n",
              " Text(0.8024691358024691, 0.6538461538461539, 'X[5] <= 2.5\\ngini = 0.688\\nsamples = 125\\nvalue = [39, 49, 7, 30]'),\n",
              " Text(0.7160493827160493, 0.5769230769230769, 'X[4] <= 2.5\\ngini = 0.594\\nsamples = 58\\nvalue = [3, 21, 4, 30]'),\n",
              " Text(0.7037037037037037, 0.5, 'X[4] <= 1.5\\ngini = 0.614\\nsamples = 39\\nvalue = [3, 21, 4, 11]'),\n",
              " Text(0.654320987654321, 0.4230769230769231, 'X[2] <= 2.5\\ngini = 0.457\\nsamples = 17\\nvalue = [0, 6, 0, 11]'),\n",
              " Text(0.6296296296296297, 0.34615384615384615, 'X[3] <= 1.5\\ngini = 0.219\\nsamples = 8\\nvalue = [0, 1, 0, 7]'),\n",
              " Text(0.6172839506172839, 0.2692307692307692, 'gini = 0.0\\nsamples = 5\\nvalue = [0, 0, 0, 5]'),\n",
              " Text(0.6419753086419753, 0.2692307692307692, 'X[2] <= 1.5\\ngini = 0.444\\nsamples = 3\\nvalue = [0, 1, 0, 2]'),\n",
              " Text(0.6296296296296297, 0.19230769230769232, 'gini = 0.0\\nsamples = 1\\nvalue = [0, 1, 0, 0]'),\n",
              " Text(0.654320987654321, 0.19230769230769232, 'gini = 0.0\\nsamples = 2\\nvalue = [0, 0, 0, 2]'),\n",
              " Text(0.6790123456790124, 0.34615384615384615, 'X[2] <= 3.5\\ngini = 0.494\\nsamples = 9\\nvalue = [0, 5, 0, 4]'),\n",
              " Text(0.6666666666666666, 0.2692307692307692, 'gini = 0.0\\nsamples = 5\\nvalue = [0, 5, 0, 0]'),\n",
              " Text(0.691358024691358, 0.2692307692307692, 'gini = 0.0\\nsamples = 4\\nvalue = [0, 0, 0, 4]'),\n",
              " Text(0.7530864197530864, 0.4230769230769231, 'X[3] <= 1.5\\ngini = 0.483\\nsamples = 22\\nvalue = [3, 15, 4, 0]'),\n",
              " Text(0.7407407407407407, 0.34615384615384615, 'X[2] <= 2.5\\ngini = 0.639\\nsamples = 13\\nvalue = [3, 6, 4, 0]'),\n",
              " Text(0.7160493827160493, 0.2692307692307692, 'X[0] <= 3.5\\ngini = 0.444\\nsamples = 6\\nvalue = [2, 4, 0, 0]'),\n",
              " Text(0.7037037037037037, 0.19230769230769232, 'gini = 0.0\\nsamples = 3\\nvalue = [0, 3, 0, 0]'),\n",
              " Text(0.7283950617283951, 0.19230769230769232, 'X[1] <= 3.5\\ngini = 0.444\\nsamples = 3\\nvalue = [2, 1, 0, 0]'),\n",
              " Text(0.7160493827160493, 0.11538461538461539, 'gini = 0.0\\nsamples = 1\\nvalue = [0, 1, 0, 0]'),\n",
              " Text(0.7407407407407407, 0.11538461538461539, 'gini = 0.0\\nsamples = 2\\nvalue = [2, 0, 0, 0]'),\n",
              " Text(0.7654320987654321, 0.2692307692307692, 'X[2] <= 3.5\\ngini = 0.571\\nsamples = 7\\nvalue = [1, 2, 4, 0]'),\n",
              " Text(0.7530864197530864, 0.19230769230769232, 'gini = 0.0\\nsamples = 4\\nvalue = [0, 0, 4, 0]'),\n",
              " Text(0.7777777777777778, 0.19230769230769232, 'X[0] <= 3.5\\ngini = 0.444\\nsamples = 3\\nvalue = [1, 2, 0, 0]'),\n",
              " Text(0.7654320987654321, 0.11538461538461539, 'gini = 0.0\\nsamples = 1\\nvalue = [0, 1, 0, 0]'),\n",
              " Text(0.7901234567901234, 0.11538461538461539, 'X[1] <= 3.5\\ngini = 0.5\\nsamples = 2\\nvalue = [1, 1, 0, 0]'),\n",
              " Text(0.7777777777777778, 0.038461538461538464, 'gini = 0.0\\nsamples = 1\\nvalue = [0, 1, 0, 0]'),\n",
              " Text(0.8024691358024691, 0.038461538461538464, 'gini = 0.0\\nsamples = 1\\nvalue = [1, 0, 0, 0]'),\n",
              " Text(0.7654320987654321, 0.34615384615384615, 'gini = 0.0\\nsamples = 9\\nvalue = [0, 9, 0, 0]'),\n",
              " Text(0.7283950617283951, 0.5, 'gini = 0.0\\nsamples = 19\\nvalue = [0, 0, 0, 19]'),\n",
              " Text(0.8888888888888888, 0.5769230769230769, 'X[1] <= 3.5\\ngini = 0.535\\nsamples = 67\\nvalue = [36, 28, 3, 0]'),\n",
              " Text(0.8395061728395061, 0.5, 'X[4] <= 2.5\\ngini = 0.464\\nsamples = 30\\nvalue = [9, 20, 1, 0]'),\n",
              " Text(0.8271604938271605, 0.4230769230769231, 'X[4] <= 1.5\\ngini = 0.547\\nsamples = 17\\nvalue = [9, 7, 1, 0]'),\n",
              " Text(0.8024691358024691, 0.34615384615384615, 'X[2] <= 2.5\\ngini = 0.219\\nsamples = 8\\nvalue = [1, 7, 0, 0]'),\n",
              " Text(0.7901234567901234, 0.2692307692307692, 'gini = 0.0\\nsamples = 4\\nvalue = [0, 4, 0, 0]'),\n",
              " Text(0.8148148148148148, 0.2692307692307692, 'X[2] <= 3.5\\ngini = 0.375\\nsamples = 4\\nvalue = [1, 3, 0, 0]'),\n",
              " Text(0.8024691358024691, 0.19230769230769232, 'gini = 0.0\\nsamples = 1\\nvalue = [1, 0, 0, 0]'),\n",
              " Text(0.8271604938271605, 0.19230769230769232, 'gini = 0.0\\nsamples = 3\\nvalue = [0, 3, 0, 0]'),\n",
              " Text(0.8518518518518519, 0.34615384615384615, 'X[0] <= 3.5\\ngini = 0.198\\nsamples = 9\\nvalue = [8, 0, 1, 0]'),\n",
              " Text(0.8395061728395061, 0.2692307692307692, 'gini = 0.0\\nsamples = 5\\nvalue = [5, 0, 0, 0]'),\n",
              " Text(0.8641975308641975, 0.2692307692307692, 'X[3] <= 1.5\\ngini = 0.375\\nsamples = 4\\nvalue = [3, 0, 1, 0]'),\n",
              " Text(0.8518518518518519, 0.19230769230769232, 'X[2] <= 2.0\\ngini = 0.5\\nsamples = 2\\nvalue = [1, 0, 1, 0]'),\n",
              " Text(0.8395061728395061, 0.11538461538461539, 'gini = 0.0\\nsamples = 1\\nvalue = [1, 0, 0, 0]'),\n",
              " Text(0.8641975308641975, 0.11538461538461539, 'gini = 0.0\\nsamples = 1\\nvalue = [0, 0, 1, 0]'),\n",
              " Text(0.8765432098765432, 0.19230769230769232, 'gini = 0.0\\nsamples = 2\\nvalue = [2, 0, 0, 0]'),\n",
              " Text(0.8518518518518519, 0.4230769230769231, 'gini = 0.0\\nsamples = 13\\nvalue = [0, 13, 0, 0]'),\n",
              " Text(0.9382716049382716, 0.5, 'X[0] <= 3.5\\ngini = 0.418\\nsamples = 37\\nvalue = [27, 8, 2, 0]'),\n",
              " Text(0.9135802469135802, 0.4230769230769231, 'X[4] <= 2.5\\ngini = 0.555\\nsamples = 16\\nvalue = [7, 8, 1, 0]'),\n",
              " Text(0.9012345679012346, 0.34615384615384615, 'X[4] <= 1.5\\ngini = 0.512\\nsamples = 11\\nvalue = [7, 3, 1, 0]'),\n",
              " Text(0.8888888888888888, 0.2692307692307692, 'gini = 0.0\\nsamples = 3\\nvalue = [0, 3, 0, 0]'),\n",
              " Text(0.9135802469135802, 0.2692307692307692, 'X[3] <= 1.5\\ngini = 0.219\\nsamples = 8\\nvalue = [7, 0, 1, 0]'),\n",
              " Text(0.9012345679012346, 0.19230769230769232, 'X[2] <= 2.5\\ngini = 0.375\\nsamples = 4\\nvalue = [3, 0, 1, 0]'),\n",
              " Text(0.8888888888888888, 0.11538461538461539, 'gini = 0.0\\nsamples = 2\\nvalue = [2, 0, 0, 0]'),\n",
              " Text(0.9135802469135802, 0.11538461538461539, 'X[2] <= 3.5\\ngini = 0.5\\nsamples = 2\\nvalue = [1, 0, 1, 0]'),\n",
              " Text(0.9012345679012346, 0.038461538461538464, 'gini = 0.0\\nsamples = 1\\nvalue = [0, 0, 1, 0]'),\n",
              " Text(0.9259259259259259, 0.038461538461538464, 'gini = 0.0\\nsamples = 1\\nvalue = [1, 0, 0, 0]'),\n",
              " Text(0.9259259259259259, 0.19230769230769232, 'gini = 0.0\\nsamples = 4\\nvalue = [4, 0, 0, 0]'),\n",
              " Text(0.9259259259259259, 0.34615384615384615, 'gini = 0.0\\nsamples = 5\\nvalue = [0, 5, 0, 0]'),\n",
              " Text(0.9629629629629629, 0.4230769230769231, 'X[2] <= 2.5\\ngini = 0.091\\nsamples = 21\\nvalue = [20, 0, 1, 0]'),\n",
              " Text(0.9506172839506173, 0.34615384615384615, 'gini = 0.0\\nsamples = 12\\nvalue = [12, 0, 0, 0]'),\n",
              " Text(0.9753086419753086, 0.34615384615384615, 'X[3] <= 1.5\\ngini = 0.198\\nsamples = 9\\nvalue = [8, 0, 1, 0]'),\n",
              " Text(0.9629629629629629, 0.2692307692307692, 'X[2] <= 3.5\\ngini = 0.375\\nsamples = 4\\nvalue = [3, 0, 1, 0]'),\n",
              " Text(0.9506172839506173, 0.19230769230769232, 'X[4] <= 1.5\\ngini = 0.444\\nsamples = 3\\nvalue = [2, 0, 1, 0]'),\n",
              " Text(0.9382716049382716, 0.11538461538461539, 'gini = 0.0\\nsamples = 1\\nvalue = [1, 0, 0, 0]'),\n",
              " Text(0.9629629629629629, 0.11538461538461539, 'X[4] <= 2.5\\ngini = 0.5\\nsamples = 2\\nvalue = [1, 0, 1, 0]'),\n",
              " Text(0.9506172839506173, 0.038461538461538464, 'gini = 0.0\\nsamples = 1\\nvalue = [0, 0, 1, 0]'),\n",
              " Text(0.9753086419753086, 0.038461538461538464, 'gini = 0.0\\nsamples = 1\\nvalue = [1, 0, 0, 0]'),\n",
              " Text(0.9753086419753086, 0.19230769230769232, 'gini = 0.0\\nsamples = 1\\nvalue = [1, 0, 0, 0]'),\n",
              " Text(0.9876543209876543, 0.2692307692307692, 'gini = 0.0\\nsamples = 5\\nvalue = [5, 0, 0, 0]'),\n",
              " Text(0.3873456790123457, 0.8076923076923077, 'gini = 0.0\\nsamples = 246\\nvalue = [0, 0, 246, 0]')]"
            ]
          },
          "metadata": {},
          "execution_count": 14
        },
        {
          "output_type": "display_data",
          "data": {
            "text/plain": [
              "<Figure size 864x576 with 1 Axes>"
            ],
            "image/png": "[encoded data removed]"
          },
          "metadata": {
            "needs_background": "light"
          }
        }
      ]
    },
    {
      "cell_type": "code",
      "source": [
        "y_pred = clf.predict(X_test)"
      ],
      "metadata": {
        "id": "0QIk1WgFda-A"
      },
      "execution_count": null,
      "outputs": []
    },
    {
      "cell_type": "code",
      "source": [
        "# Plot confusion matrix\n",
        "plot_confusion_matrix(clf, X_test, y_test)  \n",
        "plt.show()"
      ],
      "metadata": {
        "id": "baPiJej4dnnw",
        "colab": {
          "base_uri": "https://localhost:8080/",
          "height": 334
        },
        "outputId": "07f86618-903f-4a7e-a083-cffad840afcc"
      },
      "execution_count": null,
      "outputs": [
        {
          "output_type": "stream",
          "name": "stderr",
          "text": [
            "/usr/local/lib/python3.7/dist-packages/sklearn/utils/deprecation.py:87: FutureWarning: Function plot_confusion_matrix is deprecated; Function `plot_confusion_matrix` is deprecated in 1.0 and will be removed in 1.2. Use one of the class methods: ConfusionMatrixDisplay.from_predictions or ConfusionMatrixDisplay.from_estimator.\n",
            "  warnings.warn(msg, category=FutureWarning)\n"
          ]
        },
        {
          "output_type": "display_data",
          "data": {
            "text/plain": [
              "<Figure size 432x288 with 2 Axes>"
            ],
            "image/png": "[encoded data removed]"
          },
          "metadata": {
            "needs_background": "light"
          }
        }
      ]
    },
    {
      "cell_type": "code",
      "source": [
        "clf.score(X_test, y_test)"
      ],
      "metadata": {
        "colab": {
          "base_uri": "https://localhost:8080/"
        },
        "id": "bqL8iomcP2MT",
        "outputId": "0bbb5086-5c4c-4775-a4dd-e039f345e8f7"
      },
      "execution_count": null,
      "outputs": [
        {
          "output_type": "execute_result",
          "data": {
            "text/plain": [
              "0.9527145359019265"
            ]
          },
          "metadata": {},
          "execution_count": 17
        }
      ]
    },
    {
      "cell_type": "code",
      "source": [
        "print(classification_report(y_test, y_pred))"
      ],
      "metadata": {
        "colab": {
          "base_uri": "https://localhost:8080/"
        },
        "id": "ExvGvCMGR-zy",
        "outputId": "77e5e294-e367-4b00-f0d4-4739f65ba03e"
      },
      "execution_count": null,
      "outputs": [
        {
          "output_type": "stream",
          "name": "stdout",
          "text": [
            "              precision    recall  f1-score   support\n",
            "\n",
            "         acc       0.94      0.84      0.89       129\n",
            "        good       0.62      1.00      0.77        20\n",
            "       unacc       0.98      0.99      0.98       397\n",
            "       vgood       1.00      0.88      0.94        25\n",
            "\n",
            "    accuracy                           0.95       571\n",
            "   macro avg       0.89      0.93      0.90       571\n",
            "weighted avg       0.96      0.95      0.95       571\n",
            "\n"
          ]
        }
      ]
    },
    {
      "cell_type": "markdown",
      "source": [
        "# <h2> 5.Modelo: Random Forest.</h2>"
      ],
      "metadata": {
        "id": "78wp7cixT_2z"
      }
    },
    {
      "cell_type": "code",
      "source": [
        "clf = RandomForestClassifier(n_estimators=10)\n",
        "clf = clf.fit(X_train, y_train)\n",
        "scores = cross_val_score(clf, X_train, y_train, cv=3)\n",
        "scores.mean()"
      ],
      "metadata": {
        "colab": {
          "base_uri": "https://localhost:8080/"
        },
        "id": "ga0HnfA2UW26",
        "outputId": "f097e8d6-6652-4887-c8a9-c8f35c4bda34"
      },
      "execution_count": null,
      "outputs": [
        {
          "output_type": "execute_result",
          "data": {
            "text/plain": [
              "0.9204651997398111"
            ]
          },
          "metadata": {},
          "execution_count": 29
        }
      ]
    },
    {
      "cell_type": "code",
      "source": [
        "y_pred = clf.predict(X_test)"
      ],
      "metadata": {
        "id": "_6pvtDG7VDG_"
      },
      "execution_count": null,
      "outputs": []
    },
    {
      "cell_type": "code",
      "source": [
        "clf.score(X_test, y_test)"
      ],
      "metadata": {
        "colab": {
          "base_uri": "https://localhost:8080/"
        },
        "id": "TUuljtNwVMBZ",
        "outputId": "1f9fe106-16f5-46c8-a35a-8f0047c4d0d7"
      },
      "execution_count": null,
      "outputs": [
        {
          "output_type": "execute_result",
          "data": {
            "text/plain": [
              "0.9334500875656743"
            ]
          },
          "metadata": {},
          "execution_count": 31
        }
      ]
    },
    {
      "cell_type": "code",
      "source": [
        "plot_confusion_matrix(clf, X_test, y_test)  \n",
        "plt.show()"
      ],
      "metadata": {
        "colab": {
          "base_uri": "https://localhost:8080/",
          "height": 334
        },
        "id": "IhpzJ29eVcgY",
        "outputId": "976c7c23-a452-48cb-bd58-7d415dd96bee"
      },
      "execution_count": null,
      "outputs": [
        {
          "output_type": "stream",
          "name": "stderr",
          "text": [
            "/usr/local/lib/python3.7/dist-packages/sklearn/utils/deprecation.py:87: FutureWarning: Function plot_confusion_matrix is deprecated; Function `plot_confusion_matrix` is deprecated in 1.0 and will be removed in 1.2. Use one of the class methods: ConfusionMatrixDisplay.from_predictions or ConfusionMatrixDisplay.from_estimator.\n",
            "  warnings.warn(msg, category=FutureWarning)\n"
          ]
        },
        {
          "output_type": "display_data",
          "data": {
            "text/plain": [
              "<Figure size 432x288 with 2 Axes>"
            ],
            "image/png": "[encoded data removed]"
          },
          "metadata": {
            "needs_background": "light"
          }
        }
      ]
    },
    {
      "cell_type": "code",
      "source": [
        "print(classification_report(y_test, y_pred))"
      ],
      "metadata": {
        "colab": {
          "base_uri": "https://localhost:8080/"
        },
        "id": "jec6kwbCVQWl",
        "outputId": "42124c0c-1ac3-485f-e22f-c77ff2fd6879"
      },
      "execution_count": null,
      "outputs": [
        {
          "output_type": "stream",
          "name": "stdout",
          "text": [
            "              precision    recall  f1-score   support\n",
            "\n",
            "         acc       0.87      0.85      0.86       129\n",
            "        good       0.57      0.80      0.67        20\n",
            "       unacc       0.98      0.98      0.98       397\n",
            "       vgood       0.86      0.76      0.81        25\n",
            "\n",
            "    accuracy                           0.93       571\n",
            "   macro avg       0.82      0.85      0.83       571\n",
            "weighted avg       0.94      0.93      0.93       571\n",
            "\n"
          ]
        }
      ]
    },
    {
      "cell_type": "markdown",
      "source": [
        "# <h2> 6.Modelo: K-means.</h2>"
      ],
      "metadata": {
        "id": "LdXtsixgXI2w"
      }
    },
    {
      "cell_type": "code",
      "source": [
        "#Finding the optimum number of clusters for k-means classification\n",
        "from sklearn.cluster import KMeans\n",
        "wcss = []\n",
        "\n",
        "for i in range(1, 11):\n",
        "    kmeans = KMeans(n_clusters = i, init = 'random', max_iter = 300, n_init = 10, random_state = 0)\n",
        "    kmeans.fit(X_train)\n",
        "    wcss.append(kmeans.inertia_)"
      ],
      "metadata": {
        "id": "wjJwce4DXOUO"
      },
      "execution_count": null,
      "outputs": []
    },
    {
      "cell_type": "code",
      "source": [
        "plt.plot(range(1, 11), wcss)\n",
        "plt.title('The elbow method')\n",
        "plt.xlabel('Number of clusters')\n",
        "plt.ylabel('WCSS') #within cluster sum of squares\n",
        "plt.show()"
      ],
      "metadata": {
        "colab": {
          "base_uri": "https://localhost:8080/",
          "height": 295
        },
        "id": "mCm0QOkOY0Wd",
        "outputId": "c33841e8-8a9a-44f4-fee0-be752ae3b5bc"
      },
      "execution_count": null,
      "outputs": [
        {
          "output_type": "display_data",
          "data": {
            "text/plain": [
              "<Figure size 432x288 with 1 Axes>"
            ],
            "image/png": "[encoded data removed]"
          },
          "metadata": {
            "needs_background": "light"
          }
        }
      ]
    },
    {
      "cell_type": "code",
      "source": [
        "kmeans = KMeans(n_clusters = 4, init = 'random', max_iter = 300, n_init = 10, random_state = 0)\n",
        "y_kmeans = kmeans.fit_predict(X_train)"
      ],
      "metadata": {
        "id": "xEz-uPoGY9Bl"
      },
      "execution_count": null,
      "outputs": []
    },
    {
      "cell_type": "code",
      "source": [
        "X = np.array(X_train)\n",
        "# plot the 3 clusters\n",
        "plt.scatter(\n",
        "    X[y_kmeans == 0, 0], X[y_kmeans == 0, 1],\n",
        "    s=50, c='green',\n",
        "    marker='s', edgecolor='black',\n",
        "    label='cluster 1'\n",
        ")\n",
        "\n",
        "plt.scatter(\n",
        "    X[y_kmeans == 1, 0], X[y_kmeans == 1, 1],\n",
        "    s=50, c='orange',\n",
        "    marker='o', edgecolor='black',\n",
        "    label='cluster 2'\n",
        ")\n",
        "\n",
        "plt.scatter(\n",
        "    X[y_kmeans == 2, 0], X[y_kmeans == 2, 1],\n",
        "    s=50, c='blue',\n",
        "    marker='v', edgecolor='black',\n",
        "    label='cluster 3'\n",
        ")\n",
        "\n",
        "plt.scatter(\n",
        "    X[y_kmeans == 3, 0], X[y_kmeans == 3, 1],\n",
        "    s=50, c='purple',\n",
        "    marker='x', edgecolor='black',\n",
        "    label='cluster 4'\n",
        ")\n",
        "\n",
        "# plot the centroids\n",
        "plt.scatter(\n",
        "    kmeans.cluster_centers_[:, 0], kmeans.cluster_centers_[:, 1],\n",
        "    s=250, marker='*',\n",
        "    c='red', edgecolor='black',\n",
        "    label='centroids'\n",
        ")\n",
        "plt.legend(scatterpoints=1)\n",
        "plt.grid()\n",
        "plt.show()"
      ],
      "metadata": {
        "colab": {
          "base_uri": "https://localhost:8080/",
          "height": 265
        },
        "id": "mcDPV7vNetzk",
        "outputId": "bac06f16-7305-4040-b74c-f6b56e4195c1"
      },
      "execution_count": null,
      "outputs": [
        {
          "output_type": "display_data",
          "data": {
            "text/plain": [
              "<Figure size 432x288 with 1 Axes>"
            ],
            "image/png": "[encoded data removed]"
          },
          "metadata": {
            "needs_background": "light"
          }
        }
      ]
    },
    {
      "cell_type": "markdown",
      "source": [
        "# <h2> 7.Modelo: DBSCAN</h2>\n"
      ],
      "metadata": {
        "id": "TkOC-uzwFN3O"
      }
    },
    {
      "cell_type": "code",
      "source": [
        "labels_true = y_train\n",
        "labels_true"
      ],
      "metadata": {
        "colab": {
          "base_uri": "https://localhost:8080/"
        },
        "id": "3Bh-uEfXFQ2o",
        "outputId": "b1b5492a-5bf9-414c-db80-de9ac3dd53a1"
      },
      "execution_count": null,
      "outputs": [
        {
          "output_type": "execute_result",
          "data": {
            "text/plain": [
              "48      unacc\n",
              "468     unacc\n",
              "155     unacc\n",
              "1721     good\n",
              "1208    unacc\n",
              "        ...  \n",
              "1130    vgood\n",
              "1294     good\n",
              "860       acc\n",
              "1459    unacc\n",
              "1126      acc\n",
              "Name: class, Length: 1157, dtype: object"
            ]
          },
          "metadata": {},
          "execution_count": 21
        }
      ]
    },
    {
      "cell_type": "code",
      "source": [
        "len(labels_true)"
      ],
      "metadata": {
        "colab": {
          "base_uri": "https://localhost:8080/"
        },
        "id": "8nAdW0hlGo8K",
        "outputId": "95180c22-551b-46e4-eb5b-a1a1ba0ea84a"
      },
      "execution_count": null,
      "outputs": [
        {
          "output_type": "execute_result",
          "data": {
            "text/plain": [
              "1157"
            ]
          },
          "metadata": {},
          "execution_count": 23
        }
      ]
    },
    {
      "cell_type": "code",
      "source": [
        "#X_train = StandardScaler().fit_transform(X_train)\n",
        "\n",
        "db = DBSCAN(eps=1.3, min_samples=11).fit(X_train)\n",
        "core_samples_mask = np.zeros_like(db.labels_, dtype=bool)\n",
        "core_samples_mask[db.core_sample_indices_] = True\n",
        "labels = db.labels_\n",
        "\n",
        "# Number of clusters in labels, ignoring noise if present.\n",
        "n_clusters_ = len(set(labels)) - (1 if -1 in labels else 0)\n",
        "n_noise_ = list(labels).count(-1)\n",
        "\n",
        "print(\"Estimated number of clusters: %d\" % n_clusters_)\n",
        "print(\"Estimated number of noise points: %d\" % n_noise_)\n",
        "print(\"Homogeneity: %0.3f\" % metrics.homogeneity_score(labels_true, labels))\n",
        "print(\"Completeness: %0.3f\" % metrics.completeness_score(labels_true, labels))\n",
        "print(\"V-measure: %0.3f\" % metrics.v_measure_score(labels_true, labels))\n",
        "print(\"Adjusted Rand Index: %0.3f\" % metrics.adjusted_rand_score(labels_true, labels))\n",
        "print(\n",
        "    \"Adjusted Mutual Information: %0.3f\"\n",
        "    % metrics.adjusted_mutual_info_score(labels_true, labels)\n",
        ")\n",
        "print(\"Silhouette Coefficient: %0.3f\" % metrics.silhouette_score(X_train, labels))"
      ],
      "metadata": {
        "colab": {
          "base_uri": "https://localhost:8080/"
        },
        "id": "zEwOEdE1FQzn",
        "outputId": "be9843c6-719e-49b7-842f-53ebdc25a959"
      },
      "execution_count": null,
      "outputs": [
        {
          "output_type": "stream",
          "name": "stdout",
          "text": [
            "Estimated number of clusters: 6\n",
            "Estimated number of noise points: 1044\n",
            "Homogeneity: 0.035\n",
            "Completeness: 0.067\n",
            "V-measure: 0.046\n",
            "Adjusted Rand Index: 0.111\n",
            "Adjusted Mutual Information: 0.034\n",
            "Silhouette Coefficient: -0.275\n"
          ]
        }
      ]
    },
    {
      "cell_type": "code",
      "source": [
        "import matplotlib.pyplot as plt\n",
        "\n",
        "# Black removed and is used for noise instead.\n",
        "unique_labels = set(labels)\n",
        "colors = [plt.cm.Spectral(each) for each in np.linspace(0, 1, len(unique_labels))]\n",
        "for k, col in zip(unique_labels, colors):\n",
        "    if k == -1:\n",
        "        # Black used for noise.\n",
        "        col = [0, 0, 0, 1]\n",
        "\n",
        "    class_member_mask = labels == k\n",
        "\n",
        "    xy = X_train[class_member_mask & core_samples_mask].values\n",
        "    plt.plot(\n",
        "        xy[:, 0],\n",
        "        xy[:, 1],\n",
        "        \"o\",\n",
        "        markerfacecolor=tuple(col),\n",
        "        markeredgecolor=\"k\",\n",
        "        markersize=14,\n",
        "    )\n",
        "\n",
        "    xy = X_train[class_member_mask & ~core_samples_mask].values\n",
        "    plt.plot(\n",
        "        xy[:, 0],\n",
        "        xy[:, 1],\n",
        "        \"o\",\n",
        "        markerfacecolor=tuple(col),\n",
        "        markeredgecolor=\"k\",\n",
        "        markersize=6,\n",
        "    )\n",
        "\n",
        "plt.title(\"Estimated number of clusters: %d\" % n_clusters_)\n",
        "plt.show()"
      ],
      "metadata": {
        "colab": {
          "base_uri": "https://localhost:8080/",
          "height": 281
        },
        "id": "0pp7F2ioFQwV",
        "outputId": "aa9ceb7f-7707-4f64-c179-14ca6cf2d9ae"
      },
      "execution_count": null,
      "outputs": [
        {
          "output_type": "display_data",
          "data": {
            "text/plain": [
              "<Figure size 432x288 with 1 Axes>"
            ],
            "image/png": "[encoded data removed]"
          },
          "metadata": {
            "needs_background": "light"
          }
        }
      ]
    },
    {
      "cell_type": "code",
      "source": [
        "from sklearn.impute import SimpleImputer\n",
        "imputer = SimpleImputer(missing_values = np.nan, strategy = 'mean',verbose=0)\n",
        "imputer = imputer.fit(X_train.iloc[:, 1:3].values)\n",
        "X_train.iloc[:, 1:3] = imputer.transform(X_train.iloc[:, 1:3].values)"
      ],
      "metadata": {
        "id": "VFtdXQOUFQpl"
      },
      "execution_count": null,
      "outputs": []
    }
  ]
}